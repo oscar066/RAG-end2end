{
 "cells": [
  {
   "cell_type": "markdown",
   "id": "e9dc18bf-09bf-427b-b6cb-f8799b1804ae",
   "metadata": {},
   "source": [
    "## Retrieval Reader Architecture"
   ]
  },
  {
   "cell_type": "code",
   "execution_count": 2,
   "id": "89518ea3-7c2a-48ea-9a5e-a6c73cd7cb6b",
   "metadata": {},
   "outputs": [],
   "source": [
    "import datasets"
   ]
  },
  {
   "cell_type": "code",
   "execution_count": 3,
   "id": "70c17726-7376-481a-a391-aa6c3ed95560",
   "metadata": {},
   "outputs": [
    {
     "data": {
      "text/plain": [
       "['books', 'electronics', 'grocery', 'movies', 'restaurants', 'tripadvisor']"
      ]
     },
     "execution_count": 3,
     "metadata": {},
     "output_type": "execute_result"
    }
   ],
   "source": [
    "from datasets import get_dataset_config_names\n",
    "\n",
    "domains = get_dataset_config_names(\"subjqa\")\n",
    "domains"
   ]
  },
  {
   "cell_type": "markdown",
   "id": "188b3fc3-7b9f-4b5d-b1a3-83ed7d4ff8f0",
   "metadata": {},
   "source": [
    "### 1. Loading the dataset from datasets "
   ]
  },
  {
   "cell_type": "code",
   "execution_count": 4,
   "id": "dc534246-cf5f-464d-810f-0bbbab05515f",
   "metadata": {},
   "outputs": [],
   "source": [
    "from datasets import load_dataset\n",
    "\n",
    "subjqa = load_dataset(\"subjqa\" , name=\"electronics\")"
   ]
  },
  {
   "cell_type": "code",
   "execution_count": 5,
   "id": "c8c65009-0dd8-46e9-8de3-11b5a3d5ef9e",
   "metadata": {},
   "outputs": [
    {
     "name": "stdout",
     "output_type": "stream",
     "text": [
      "{'text': ['the best of all of them'], 'answer_start': [1609], 'answer_subj_level': [1], 'ans_subj_score': [0.30000001192092896], 'is_ans_subjective': [False]}\n"
     ]
    }
   ],
   "source": [
    "print(subjqa[\"train\"][\"answers\"][3])"
   ]
  },
  {
   "cell_type": "code",
   "execution_count": 6,
   "id": "5d36d686-4338-49ea-9dab-438168c8019b",
   "metadata": {},
   "outputs": [
    {
     "data": {
      "text/plain": [
       "DatasetDict({\n",
       "    train: Dataset({\n",
       "        features: ['domain', 'nn_mod', 'nn_asp', 'query_mod', 'query_asp', 'q_reviews_id', 'question_subj_level', 'ques_subj_score', 'is_ques_subjective', 'review_id', 'id', 'title', 'context', 'question', 'answers'],\n",
       "        num_rows: 1295\n",
       "    })\n",
       "    test: Dataset({\n",
       "        features: ['domain', 'nn_mod', 'nn_asp', 'query_mod', 'query_asp', 'q_reviews_id', 'question_subj_level', 'ques_subj_score', 'is_ques_subjective', 'review_id', 'id', 'title', 'context', 'question', 'answers'],\n",
       "        num_rows: 358\n",
       "    })\n",
       "    validation: Dataset({\n",
       "        features: ['domain', 'nn_mod', 'nn_asp', 'query_mod', 'query_asp', 'q_reviews_id', 'question_subj_level', 'ques_subj_score', 'is_ques_subjective', 'review_id', 'id', 'title', 'context', 'question', 'answers'],\n",
       "        num_rows: 255\n",
       "    })\n",
       "})"
      ]
     },
     "execution_count": 6,
     "metadata": {},
     "output_type": "execute_result"
    }
   ],
   "source": [
    "subjqa"
   ]
  },
  {
   "cell_type": "code",
   "execution_count": 7,
   "id": "9d141339-cabd-4fd9-9eb6-8197c9a6d936",
   "metadata": {},
   "outputs": [
    {
     "name": "stdout",
     "output_type": "stream",
     "text": [
      "Number of questions in train: 1295\n",
      "Number of questions in test: 358\n",
      "Number of questions in validation: 255\n"
     ]
    }
   ],
   "source": [
    "import pandas as pd\n",
    "\n",
    "dfs = {split: dset.to_pandas() for split, dset in subjqa.flatten().items()}\n",
    "\n",
    "for split, df in dfs.items():\n",
    "    print(f\"Number of questions in {split}: {df['id'].nunique()}\")"
   ]
  },
  {
   "cell_type": "code",
   "execution_count": 8,
   "id": "4bb20010-8a0a-4218-9500-ef6989d59721",
   "metadata": {},
   "outputs": [
    {
     "data": {
      "text/html": [
       "<div>\n",
       "<style scoped>\n",
       "    .dataframe tbody tr th:only-of-type {\n",
       "        vertical-align: middle;\n",
       "    }\n",
       "\n",
       "    .dataframe tbody tr th {\n",
       "        vertical-align: top;\n",
       "    }\n",
       "\n",
       "    .dataframe thead th {\n",
       "        text-align: right;\n",
       "    }\n",
       "</style>\n",
       "<table border=\"1\" class=\"dataframe\">\n",
       "  <thead>\n",
       "    <tr style=\"text-align: right;\">\n",
       "      <th></th>\n",
       "      <th>title</th>\n",
       "      <th>question</th>\n",
       "      <th>answers.text</th>\n",
       "      <th>answers.answer_start</th>\n",
       "      <th>context</th>\n",
       "    </tr>\n",
       "  </thead>\n",
       "  <tbody>\n",
       "    <tr>\n",
       "      <th>834</th>\n",
       "      <td>B005HMO6A6</td>\n",
       "      <td>How do you like the keyboard?</td>\n",
       "      <td>[]</td>\n",
       "      <td>[]</td>\n",
       "      <td>The good*Overall design is elegant*Quality fee...</td>\n",
       "    </tr>\n",
       "    <tr>\n",
       "      <th>327</th>\n",
       "      <td>B002C7481G</td>\n",
       "      <td>How is the processor?</td>\n",
       "      <td>[]</td>\n",
       "      <td>[]</td>\n",
       "      <td>So I have had my iPad now for about a month. T...</td>\n",
       "    </tr>\n",
       "    <tr>\n",
       "      <th>839</th>\n",
       "      <td>B005HMO6A6</td>\n",
       "      <td>Does this have the ability to use batteries?</td>\n",
       "      <td>[]</td>\n",
       "      <td>[]</td>\n",
       "      <td>-Love this product!  I have tried other wirele...</td>\n",
       "    </tr>\n",
       "    <tr>\n",
       "      <th>1121</th>\n",
       "      <td>B009A5204K</td>\n",
       "      <td>What is the sound quality?</td>\n",
       "      <td>[]</td>\n",
       "      <td>[]</td>\n",
       "      <td>One may look at me strangely, friends may call...</td>\n",
       "    </tr>\n",
       "    <tr>\n",
       "      <th>976</th>\n",
       "      <td>B0075SUK14</td>\n",
       "      <td>How is the zoom?</td>\n",
       "      <td>[]</td>\n",
       "      <td>[]</td>\n",
       "      <td>We just returned from a trip overseas and brou...</td>\n",
       "    </tr>\n",
       "    <tr>\n",
       "      <th>536</th>\n",
       "      <td>B003LR7ME6</td>\n",
       "      <td>How do I get to the port?</td>\n",
       "      <td>[]</td>\n",
       "      <td>[]</td>\n",
       "      <td>Love this case.  With the exception of the exp...</td>\n",
       "    </tr>\n",
       "    <tr>\n",
       "      <th>477</th>\n",
       "      <td>B003ELYQGG</td>\n",
       "      <td>How clear was the sound?</td>\n",
       "      <td>[Although the sound is nice and neutral, sound...</td>\n",
       "      <td>[0, 13]</td>\n",
       "      <td>Although the sound is nice and neutral, the ba...</td>\n",
       "    </tr>\n",
       "    <tr>\n",
       "      <th>1078</th>\n",
       "      <td>B008ABOJKS</td>\n",
       "      <td>How do you like the performance?</td>\n",
       "      <td>[the performance is excellent, I'd like to imp...</td>\n",
       "      <td>[225, 1989]</td>\n",
       "      <td>asuswrt is by far the best firmware for this r...</td>\n",
       "    </tr>\n",
       "    <tr>\n",
       "      <th>889</th>\n",
       "      <td>B006W8U2MU</td>\n",
       "      <td>How did you like the performance?</td>\n",
       "      <td>[]</td>\n",
       "      <td>[]</td>\n",
       "      <td>This thing is so tiny it is hard to believe it...</td>\n",
       "    </tr>\n",
       "    <tr>\n",
       "      <th>76</th>\n",
       "      <td>B0002L5R78</td>\n",
       "      <td>What do you think about price?</td>\n",
       "      <td>[]</td>\n",
       "      <td>[]</td>\n",
       "      <td>So I ordered 3, and two work perfectly fine. O...</td>\n",
       "    </tr>\n",
       "  </tbody>\n",
       "</table>\n",
       "</div>"
      ],
      "text/plain": [
       "           title                                      question  \\\n",
       "834   B005HMO6A6                 How do you like the keyboard?   \n",
       "327   B002C7481G                         How is the processor?   \n",
       "839   B005HMO6A6  Does this have the ability to use batteries?   \n",
       "1121  B009A5204K                    What is the sound quality?   \n",
       "976   B0075SUK14                              How is the zoom?   \n",
       "536   B003LR7ME6                     How do I get to the port?   \n",
       "477   B003ELYQGG                      How clear was the sound?   \n",
       "1078  B008ABOJKS              How do you like the performance?   \n",
       "889   B006W8U2MU             How did you like the performance?   \n",
       "76    B0002L5R78                What do you think about price?   \n",
       "\n",
       "                                           answers.text answers.answer_start  \\\n",
       "834                                                  []                   []   \n",
       "327                                                  []                   []   \n",
       "839                                                  []                   []   \n",
       "1121                                                 []                   []   \n",
       "976                                                  []                   []   \n",
       "536                                                  []                   []   \n",
       "477   [Although the sound is nice and neutral, sound...              [0, 13]   \n",
       "1078  [the performance is excellent, I'd like to imp...          [225, 1989]   \n",
       "889                                                  []                   []   \n",
       "76                                                   []                   []   \n",
       "\n",
       "                                                context  \n",
       "834   The good*Overall design is elegant*Quality fee...  \n",
       "327   So I have had my iPad now for about a month. T...  \n",
       "839   -Love this product!  I have tried other wirele...  \n",
       "1121  One may look at me strangely, friends may call...  \n",
       "976   We just returned from a trip overseas and brou...  \n",
       "536   Love this case.  With the exception of the exp...  \n",
       "477   Although the sound is nice and neutral, the ba...  \n",
       "1078  asuswrt is by far the best firmware for this r...  \n",
       "889   This thing is so tiny it is hard to believe it...  \n",
       "76    So I ordered 3, and two work perfectly fine. O...  "
      ]
     },
     "execution_count": 8,
     "metadata": {},
     "output_type": "execute_result"
    }
   ],
   "source": [
    "qa_cols = [\"title\", \"question\", \"answers.text\",\n",
    "           \"answers.answer_start\", \"context\"]\n",
    "\n",
    "sample_df = dfs[\"train\"][qa_cols].sample(10, random_state=42)\n",
    "sample_df.head(10)"
   ]
  },
  {
   "cell_type": "code",
   "execution_count": 9,
   "id": "bb0e0229-4f26-49dc-9ff2-ae8b917efdf5",
   "metadata": {},
   "outputs": [
    {
     "data": {
      "image/png": "[encoded data removed]",
      "text/plain": [
       "<Figure size 640x480 with 1 Axes>"
      ]
     },
     "metadata": {},
     "output_type": "display_data"
    }
   ],
   "source": [
    "import matplotlib.pyplot as plt\n",
    "\n",
    "counts = {}\n",
    "question_types = [\"What\", \"How\", \"Is\", \"Does\", \"Do\", \"Was\", \"Where\", \"Why\"]\n",
    "\n",
    "for q in question_types:\n",
    "    counts[q] = dfs[\"train\"][\"question\"].str.startswith(q).value_counts()[True]\n",
    "\n",
    "pd.Series(counts).sort_values().plot.barh()\n",
    "plt.title(\"Frequency of Question Types\")\n",
    "plt.show()"
   ]
  },
  {
   "cell_type": "code",
   "execution_count": 10,
   "id": "15364981-0501-4e5a-a02b-0b4d66570b2c",
   "metadata": {},
   "outputs": [
    {
     "name": "stdout",
     "output_type": "stream",
     "text": [
      "How was the signal?\n",
      "How is the connection of the cables?\n",
      "How was the power supply?\n",
      "What are the sizes of the lens?\n",
      "What is the performance of the product?\n",
      "What is earphone?\n",
      "Is the cable expensive?\n",
      "Is this phome comes with a charger?\n",
      "Is the bass sound the deepest ?\n"
     ]
    }
   ],
   "source": [
    "for question_type in [\"How\", \"What\", \"Is\"]:\n",
    "    for question in (\n",
    "        dfs[\"train\"][dfs[\"train\"].question.str.startswith(question_type)]\n",
    "        .sample(n=3, random_state=10)['question']):\n",
    "        print(question)"
   ]
  },
  {
   "cell_type": "markdown",
   "id": "0fb6dac7-905c-4c49-be76-375facd3f895",
   "metadata": {},
   "source": [
    "### 2. Extracting Answers from Text"
   ]
  },
  {
   "cell_type": "code",
   "execution_count": 11,
   "id": "6096de98-b8ea-4e89-8616-0d2796f9fbfb",
   "metadata": {},
   "outputs": [],
   "source": [
    "#Tokenizing text for Question Answering\n",
    "from transformers import AutoTokenizer\n",
    "\n",
    "model_ckpt = \"deepset/minilm-uncased-squad2\"\n",
    "tokenizer = AutoTokenizer.from_pretrained(model_ckpt)"
   ]
  },
  {
   "cell_type": "code",
   "execution_count": 12,
   "id": "c3947b0e-6c72-4e03-8742-4dd91a0a5202",
   "metadata": {},
   "outputs": [],
   "source": [
    "question = \"How much music can this hold?\"\n",
    "context = \"\"\" An MP3 is about 1 MB/minute, so about 6000 hours depending on file size.\"\"\"\n",
    "\n",
    "inputs = tokenizer(question, context, return_tensors=\"pt\")"
   ]
  },
  {
   "cell_type": "code",
   "execution_count": 13,
   "id": "9dc65ba5-24d4-4c7a-a825-1ec8b149a0c5",
   "metadata": {},
   "outputs": [],
   "source": [
    "#!huggingface-cli scan-cache"
   ]
  },
  {
   "cell_type": "code",
   "execution_count": 14,
   "id": "46f298f6-cf24-4e23-807b-7540ea78ebc7",
   "metadata": {},
   "outputs": [
    {
     "name": "stdout",
     "output_type": "stream",
     "text": [
      "[CLS] how much music can this hold? [SEP] an mp3 is about 1 mb / minute, so about 6000 hours depending on file size. [SEP]\n"
     ]
    }
   ],
   "source": [
    "print(tokenizer.decode(inputs[\"input_ids\"][0]))"
   ]
  },
  {
   "cell_type": "code",
   "execution_count": 15,
   "id": "5e144e9e-6a92-4299-b616-26a70e4133dc",
   "metadata": {},
   "outputs": [
    {
     "name": "stderr",
     "output_type": "stream",
     "text": [
      "Some weights of the model checkpoint at deepset/minilm-uncased-squad2 were not used when initializing BertForQuestionAnswering: ['bert.pooler.dense.bias', 'bert.pooler.dense.weight']\n",
      "- This IS expected if you are initializing BertForQuestionAnswering from the checkpoint of a model trained on another task or with another architecture (e.g. initializing a BertForSequenceClassification model from a BertForPreTraining model).\n",
      "- This IS NOT expected if you are initializing BertForQuestionAnswering from the checkpoint of a model that you expect to be exactly identical (initializing a BertForSequenceClassification model from a BertForSequenceClassification model).\n"
     ]
    },
    {
     "name": "stdout",
     "output_type": "stream",
     "text": [
      "QuestionAnsweringModelOutput(loss=None, start_logits=tensor([[-0.9862, -4.7750, -5.4025, -5.2378, -5.2863, -5.5117, -4.9819, -6.1880,\n",
      "         -0.9862,  0.2596, -0.2144, -1.7136,  3.7806,  4.8561, -1.0546, -3.9097,\n",
      "         -1.7374, -4.5944, -1.4278,  3.9949,  5.0391, -0.2018, -3.0193, -4.8549,\n",
      "         -2.3108, -3.5110, -3.5713, -0.9862]]), end_logits=tensor([[-0.9623, -5.4733, -5.0326, -5.1639, -5.4278, -5.5151, -5.1749, -4.6233,\n",
      "         -0.9623, -3.7855, -0.8715, -3.7745, -3.0161, -1.1780,  0.1758, -2.7365,\n",
      "          4.8934,  0.3046, -3.1761, -3.2762,  0.8937,  5.6606, -0.3623, -4.9554,\n",
      "         -3.2531, -0.0914,  1.6211, -0.9623]]), hidden_states=None, attentions=None)\n"
     ]
    }
   ],
   "source": [
    "import torch\n",
    "\n",
    "from transformers import AutoModelForQuestionAnswering\n",
    "\n",
    "model = AutoModelForQuestionAnswering.from_pretrained(model_ckpt)\n",
    "\n",
    "with torch.no_grad():\n",
    "    outputs = model(**inputs)\n",
    "\n",
    "print(outputs)"
   ]
  },
  {
   "cell_type": "code",
   "execution_count": 16,
   "id": "34a2c8bc-d861-4659-9bd3-4565012debd3",
   "metadata": {},
   "outputs": [],
   "source": [
    "start_logits = outputs.start_logits\n",
    "end_logits = outputs.end_logits"
   ]
  },
  {
   "cell_type": "code",
   "execution_count": 17,
   "id": "2edd5d60-69e6-4860-b849-47cff903fd70",
   "metadata": {},
   "outputs": [
    {
     "name": "stdout",
     "output_type": "stream",
     "text": [
      "Inputs IDs shape: torch.Size([1, 28])\n",
      "Start logits shape: torch.Size([1, 28])\n",
      "End logits shape: torch.Size([1, 28])\n"
     ]
    }
   ],
   "source": [
    "print(f\"Inputs IDs shape: {inputs.input_ids.size()}\")\n",
    "print(f\"Start logits shape: {start_logits.size()}\")\n",
    "print(f\"End logits shape: {end_logits.size()}\")"
   ]
  },
  {
   "cell_type": "code",
   "execution_count": 18,
   "id": "94d3b93e-5329-40c6-8563-3edd94431adc",
   "metadata": {},
   "outputs": [
    {
     "name": "stdout",
     "output_type": "stream",
     "text": [
      "Question: How much music can this hold?\n",
      "Answer: 6000 hours\n"
     ]
    }
   ],
   "source": [
    "import torch\n",
    "\n",
    "start_idx = torch.argmax(start_logits)\n",
    "end_idx = torch.argmax(end_logits) + 1\n",
    "answer_span = inputs[\"input_ids\"][0][start_idx:end_idx]\n",
    "answer = tokenizer.decode(answer_span)\n",
    "\n",
    "print(f\"Question: {question}\")\n",
    "print(f\"Answer: {answer}\")"
   ]
  },
  {
   "cell_type": "code",
   "execution_count": 19,
   "id": "9eb10591-955d-44b1-803d-366f2c8e14c9",
   "metadata": {},
   "outputs": [
    {
     "name": "stderr",
     "output_type": "stream",
     "text": [
      "2024-03-27 14:39:29.411233: I tensorflow/core/platform/cpu_feature_guard.cc:193] This TensorFlow binary is optimized with oneAPI Deep Neural Network Library (oneDNN) to use the following CPU instructions in performance-critical operations:  AVX2 FMA\n",
      "To enable them in other operations, rebuild TensorFlow with the appropriate compiler flags.\n",
      "/Users/oscar/opt/anaconda3/envs/learn-env/lib/python3.8/site-packages/transformers/pipelines/question_answering.py:326: UserWarning: topk parameter is deprecated, use top_k instead\n",
      "  warnings.warn(\"topk parameter is deprecated, use top_k instead\", UserWarning)\n"
     ]
    },
    {
     "data": {
      "text/plain": [
       "[{'score': 0.2651623785495758, 'start': 39, 'end': 49, 'answer': '6000 hours'},\n",
       " {'score': 0.22082938253879547,\n",
       "  'start': 17,\n",
       "  'end': 49,\n",
       "  'answer': '1 MB/minute, so about 6000 hours'},\n",
       " {'score': 0.10253461450338364,\n",
       "  'start': 17,\n",
       "  'end': 28,\n",
       "  'answer': '1 MB/minute'}]"
      ]
     },
     "execution_count": 19,
     "metadata": {},
     "output_type": "execute_result"
    }
   ],
   "source": [
    "from transformers import pipeline\n",
    "\n",
    "pipe = pipeline(\"question-answering\", model=model, tokenizer=tokenizer)\n",
    "pipe(question=question, context=context, topk=3)"
   ]
  },
  {
   "cell_type": "code",
   "execution_count": 20,
   "id": "be26cd9c-676b-4f94-b165-8db9a3bb54d8",
   "metadata": {},
   "outputs": [
    {
     "data": {
      "text/plain": [
       "{'score': 0.9068410992622375, 'start': 0, 'end': 0, 'answer': ''}"
      ]
     },
     "execution_count": 20,
     "metadata": {},
     "output_type": "execute_result"
    }
   ],
   "source": [
    "pipe(question = \"Why is there no data?\", context=context, \n",
    "    handle_impossible_answer=True)"
   ]
  },
  {
   "cell_type": "markdown",
   "id": "0e02b668-6346-49a7-9376-f1da9081596b",
   "metadata": {},
   "source": [
    "### Dealing with long passages"
   ]
  },
  {
   "cell_type": "code",
   "execution_count": 21,
   "id": "6e3a74c7-5afc-4fc4-84ab-17bb087d7ea3",
   "metadata": {},
   "outputs": [
    {
     "name": "stderr",
     "output_type": "stream",
     "text": [
      "Truncation was not explicitly activated but `max_length` is provided a specific value, please use `truncation=True` to explicitly truncate examples to max length. Defaulting to 'longest_first' truncation strategy. If you encode pairs of sequences (GLUE-style) with the tokenizer you can select this strategy more precisely by providing a specific strategy to `truncation`.\n"
     ]
    }
   ],
   "source": [
    "example = dfs[\"train\"].iloc[0][[\"question\", \"context\"]]\n",
    "\n",
    "tokenized_example = tokenizer(example[\"question\"], example[\"context\"],\n",
    "                              return_overflowing_tokens=True, max_length=100,\n",
    "                              stride=25)"
   ]
  },
  {
   "cell_type": "code",
   "execution_count": 22,
   "id": "c6f2459c-490c-4e0a-a93b-889ec6055f01",
   "metadata": {},
   "outputs": [
    {
     "name": "stdout",
     "output_type": "stream",
     "text": [
      "[CLS] how is the bass? [SEP] i have had koss headphones in the past, pro 4aa and qz - 99. the koss portapro is portable and has great bass response. the work great with my android phone and can be \" rolled up \" to be carried in my motorcycle jacket or computer bag without getting crunched. they are very light and do not feel heavy or bear down on your ears even after listening to music with them on all day. the sound is [SEP] \n",
      "\n",
      "[CLS] how is the bass? [SEP] and do not feel heavy or bear down on your ears even after listening to music with them on all day. the sound is night and day better than any ear - bud could be and are almost as good as the pro 4aa. they are \" open air \" headphones so you cannot match the bass to the sealed types, but it comes close. for $ 32, you cannot go wrong. [SEP] \n",
      "\n"
     ]
    }
   ],
   "source": [
    "for idx , window in enumerate(tokenized_example[\"input_ids\"]):\n",
    "    print(f\"{tokenizer.decode(window)} \\n\")"
   ]
  },
  {
   "cell_type": "code",
   "execution_count": 23,
   "id": "53ba2707-4923-458b-b346-49e62c871955",
   "metadata": {},
   "outputs": [
    {
     "name": "stdout",
     "output_type": "stream",
     "text": [
      "[CLS] how is the bass? [SEP] i have had koss headphones in the past, pro 4aa and qz - 99. the koss portapro is portable and has great bass response. the work great with my android phone and can be \" rolled up \" to be carried in my motorcycle jacket or computer bag without getting crunched. they are very light and do not feel heavy or bear down on your ears even after listening to music with them on all day. the sound is [SEP] \n",
      "\n",
      "[CLS] how is the bass? [SEP] and do not feel heavy or bear down on your ears even after listening to music with them on all day. the sound is night and day better than any ear - bud could be and are almost as good as the pro 4aa. they are \" open air \" headphones so you cannot match the bass to the sealed types, but it comes close. for $ 32, you cannot go wrong. [SEP] \n",
      "\n"
     ]
    }
   ],
   "source": [
    "for window in tokenized_example[\"input_ids\"]:\n",
    "    print(f\"{tokenizer.decode(window)} \\n\")"
   ]
  },
  {
   "cell_type": "code",
   "execution_count": null,
   "id": "72d4057b-8901-483f-a40e-c0d74d034c43",
   "metadata": {},
   "outputs": [],
   "source": [
    "\n",
    "    "
   ]
  },
  {
   "cell_type": "markdown",
   "id": "15ea84c2-77fa-42df-be6c-c9f1109a936e",
   "metadata": {},
   "source": [
    "### Using Haystack to Bulid a QA Pipeline"
   ]
  },
  {
   "cell_type": "code",
   "execution_count": null,
   "id": "d8841238-fd1d-4283-be97-fc9f044edd0b",
   "metadata": {},
   "outputs": [],
   "source": []
  },
  {
   "cell_type": "markdown",
   "id": "3ffd952b-15b1-4fce-a4dd-5556984bef07",
   "metadata": {},
   "source": [
    "### Retriever Reader Architecture"
   ]
  },
  {
   "cell_type": "code",
   "execution_count": 24,
   "id": "3e45e6c1-e35d-425e-bcc4-189b8279d588",
   "metadata": {},
   "outputs": [
    {
     "name": "stdout",
     "output_type": "stream",
     "text": [
      "total 623008\n",
      "drwxr-xr-x@ 12 macbook  staff        384 Mar 27 11:35 \u001b[34m.\u001b[m\u001b[m\n",
      "drwxr-xr-x@ 22 macbook  staff        704 Mar 27 11:25 \u001b[34m..\u001b[m\u001b[m\n",
      "drwxr-xr-x@ 12 macbook  staff        384 Mar 21 22:50 \u001b[34m.git\u001b[m\u001b[m\n",
      "drwxr-xr-x@  6 macbook  staff        192 Mar 26 16:36 \u001b[34m.ipynb_checkpoints\u001b[m\u001b[m\n",
      "-rw-r--r--@  1 macbook  staff     311493 Mar 21 12:37 27_First_RAG_Pipeline.ipynb\n",
      "-rw-r--r--   1 macbook  staff       7761 Mar 21 23:44 HuggingFaceLLM.ipynb\n",
      "-rw-r--r--   1 macbook  staff       3526 Mar 26 22:28 LangChainRAG1.ipynb\n",
      "-rw-r--r--   1 macbook  staff         14 Mar 11 22:31 README.md\n",
      "-rw-r--r--   1 macbook  staff     109487 Mar 27 14:41 Retriever_Reader_QA_System.ipynb\n",
      "drwxr-xr-x@ 13 macbook  staff        416 Mar 27 11:35 \u001b[34melasticsearch-7.17.19\u001b[m\u001b[m\n",
      "-rw-r--r--   1 macbook  staff  318532606 Mar 26 12:27 elasticsearch-7.17.19-darwin-x86_64.tar.gz\n",
      "-rw-r--r--   1 macbook  staff        173 Mar 26 12:27 elasticsearch-7.17.19-darwin-x86_64.tar.gz.sha512\n"
     ]
    }
   ],
   "source": [
    "!ls -la"
   ]
  },
  {
   "cell_type": "code",
   "execution_count": 25,
   "id": "a5e5219b-6660-41c4-b3ef-a008d9411830",
   "metadata": {},
   "outputs": [
    {
     "name": "stdout",
     "output_type": "stream",
     "text": [
      "27_First_RAG_Pipeline.ipynb\n",
      "HuggingFaceLLM.ipynb\n",
      "LangChainRAG1.ipynb\n",
      "README.md\n",
      "Retriever_Reader_QA_System.ipynb\n",
      "\u001b[34melasticsearch-7.17.19\u001b[m\u001b[m\n",
      "elasticsearch-7.17.19-darwin-x86_64.tar.gz\n",
      "elasticsearch-7.17.19-darwin-x86_64.tar.gz.sha512\n"
     ]
    }
   ],
   "source": [
    "!ls"
   ]
  },
  {
   "cell_type": "code",
   "execution_count": 26,
   "id": "8ad05d40-0a5f-4962-972f-1e968dbc1d9f",
   "metadata": {
    "scrolled": true
   },
   "outputs": [],
   "source": [
    "import os \n",
    "from subprocess import Popen, PIPE , STDOUT\n",
    "\n",
    "# Run ElasticSearch as a background process \n",
    "#!chown -R daemon:daemon elasticsearch-7.17.18\n",
    "#es_server = Popen(args=['elasticsearch-7.17.18/bin/elasticsearch'],\n",
    "#                  stdout=PIPE, stderr=STDOUT, preexec_fn=lambda: os.setuid(1))\n",
    "\n",
    "# wait until Elasticsearch has started\n",
    "#!sleep 30"
   ]
  },
  {
   "cell_type": "code",
   "execution_count": 27,
   "id": "0a0a765a-30af-4988-b01d-ec62aaebf4e5",
   "metadata": {},
   "outputs": [
    {
     "name": "stdout",
     "output_type": "stream",
     "text": [
      "{\n",
      "  \"name\" : \"MacBook-Pro-2.local\",\n",
      "  \"cluster_name\" : \"elasticsearch\",\n",
      "  \"cluster_uuid\" : \"YlSSemUtSe6O8l_FNfAfGg\",\n",
      "  \"version\" : {\n",
      "    \"number\" : \"7.17.19\",\n",
      "    \"build_flavor\" : \"default\",\n",
      "    \"build_type\" : \"tar\",\n",
      "    \"build_hash\" : \"92f290e9537478f85ff3fe3ab39945c1a49a6c1a\",\n",
      "    \"build_date\" : \"2024-03-21T14:34:38.216751500Z\",\n",
      "    \"build_snapshot\" : false,\n",
      "    \"lucene_version\" : \"8.11.3\",\n",
      "    \"minimum_wire_compatibility_version\" : \"6.8.0\",\n",
      "    \"minimum_index_compatibility_version\" : \"6.0.0-beta1\"\n",
      "  },\n",
      "  \"tagline\" : \"You Know, for Search\"\n",
      "}\n"
     ]
    }
   ],
   "source": [
    "!curl -X GET \"localhost:9200/?pretty\""
   ]
  },
  {
   "cell_type": "code",
   "execution_count": 28,
   "id": "56678598-bbb8-4cce-848f-306cdfb059c6",
   "metadata": {},
   "outputs": [],
   "source": [
    "#!pip install haystack-ai"
   ]
  },
  {
   "cell_type": "code",
   "execution_count": 29,
   "id": "6efdbde4-d84a-40c3-a7ee-38563140cf1b",
   "metadata": {},
   "outputs": [
    {
     "name": "stdout",
     "output_type": "stream",
     "text": [
      "Name: haystack-ai\n",
      "Version: 2.0.0\n",
      "Summary: LLM framework to build customizable, production-ready LLM applications. Connect components (models, vector DBs, file converters) to pipelines or agents that can interact with your data.\n",
      "Home-page: \n",
      "Author: \n",
      "Author-email: \"deepset.ai\" <malte.pietsch@deepset.ai>\n",
      "License: \n",
      "Location: /Users/oscar/opt/anaconda3/envs/llm-env/lib/python3.9/site-packages\n",
      "Requires: boilerpy3, haystack-bm25, jinja2, lazy-imports, more-itertools, networkx, numpy, openai, pandas, posthog, python-dateutil, pyyaml, requests, tenacity, tqdm, typing-extensions\n",
      "Required-by: elasticsearch-haystack\n"
     ]
    }
   ],
   "source": [
    "!pip show haystack-ai "
   ]
  },
  {
   "cell_type": "code",
   "execution_count": 30,
   "id": "857ed110-5fb0-430d-a3b2-de6fd9868d8f",
   "metadata": {},
   "outputs": [
    {
     "name": "stdout",
     "output_type": "stream",
     "text": [
      "Name: elasticsearch-haystack\n",
      "Version: 0.3.0\n",
      "Summary: Haystack 2.x Document Store for ElasticSearch\n",
      "Home-page: \n",
      "Author: \n",
      "Author-email: Silvano Cerza <silvanocerza@gmail.com>\n",
      "License: \n",
      "Location: /Users/oscar/opt/anaconda3/envs/llm-env/lib/python3.9/site-packages\n",
      "Requires: elasticsearch, haystack-ai\n",
      "Required-by: \n"
     ]
    }
   ],
   "source": [
    "!pip show elasticsearch-haystack"
   ]
  },
  {
   "cell_type": "code",
   "execution_count": 31,
   "id": "f14233a3-2683-42ac-b81f-c41b330bfa88",
   "metadata": {},
   "outputs": [],
   "source": [
    "#!pip uninstall -y farm-haystack haystack-ai"
   ]
  },
  {
   "cell_type": "code",
   "execution_count": 43,
   "id": "9c607701-7610-4873-a454-b4d6bf4f1daf",
   "metadata": {},
   "outputs": [
    {
     "name": "stdout",
     "output_type": "stream",
     "text": [
      "\u001b[33mWARNING: Skipping haystack-ai as it is not installed.\u001b[0m\u001b[33m\n",
      "\u001b[0m"
     ]
    }
   ],
   "source": [
    "#!pip uninstall -y haystack-ai"
   ]
  },
  {
   "cell_type": "code",
   "execution_count": 44,
   "id": "c0cf4b1e-ed34-44a8-9803-7c5fe60d50fb",
   "metadata": {},
   "outputs": [
    {
     "name": "stdout",
     "output_type": "stream",
     "text": [
      "Collecting farm-haystack\n",
      "  Downloading farm_haystack-1.25.1-py3-none-any.whl.metadata (27 kB)\n",
      "Requirement already satisfied: boilerpy3 in /Users/oscar/opt/anaconda3/envs/llm-env/lib/python3.9/site-packages (from farm-haystack) (1.0.7)\n",
      "Collecting events (from farm-haystack)\n",
      "  Using cached Events-0.5-py3-none-any.whl.metadata (3.9 kB)\n",
      "Requirement already satisfied: httpx in /Users/oscar/opt/anaconda3/envs/llm-env/lib/python3.9/site-packages (from farm-haystack) (0.27.0)\n",
      "Requirement already satisfied: jsonschema in /Users/oscar/opt/anaconda3/envs/llm-env/lib/python3.9/site-packages (from farm-haystack) (4.21.1)\n",
      "Requirement already satisfied: lazy-imports==0.3.1 in /Users/oscar/opt/anaconda3/envs/llm-env/lib/python3.9/site-packages (from farm-haystack) (0.3.1)\n",
      "Requirement already satisfied: more-itertools in /Users/oscar/opt/anaconda3/envs/llm-env/lib/python3.9/site-packages (from farm-haystack) (10.2.0)\n",
      "Requirement already satisfied: networkx in /Users/oscar/opt/anaconda3/envs/llm-env/lib/python3.9/site-packages (from farm-haystack) (3.2.1)\n",
      "Requirement already satisfied: pandas in /Users/oscar/opt/anaconda3/envs/llm-env/lib/python3.9/site-packages (from farm-haystack) (2.2.1)\n",
      "Collecting pillow (from farm-haystack)\n",
      "  Downloading pillow-10.2.0-cp39-cp39-macosx_10_10_x86_64.whl.metadata (9.7 kB)\n",
      "Collecting platformdirs (from farm-haystack)\n",
      "  Downloading platformdirs-4.2.0-py3-none-any.whl.metadata (11 kB)\n",
      "Requirement already satisfied: posthog in /Users/oscar/opt/anaconda3/envs/llm-env/lib/python3.9/site-packages (from farm-haystack) (3.5.0)\n",
      "Collecting prompthub-py==4.0.0 (from farm-haystack)\n",
      "  Using cached prompthub_py-4.0.0-py3-none-any.whl.metadata (2.2 kB)\n",
      "Collecting pydantic<2 (from farm-haystack)\n",
      "  Downloading pydantic-1.10.14-cp39-cp39-macosx_10_9_x86_64.whl.metadata (150 kB)\n",
      "\u001b[2K     \u001b[38;2;114;156;31m━━━━━━━━━━━━━━━━━━━━━━━━━━━━━━━━━━━━━\u001b[0m \u001b[32m150.2/150.2 kB\u001b[0m \u001b[31m580.6 kB/s\u001b[0m eta \u001b[36m0:00:00\u001b[0m[31m1.2 MB/s\u001b[0m eta \u001b[36m0:00:01\u001b[0m\n",
      "\u001b[?25hCollecting quantulum3 (from farm-haystack)\n",
      "  Using cached quantulum3-0.9.0-py3-none-any.whl.metadata (14 kB)\n",
      "Collecting rank-bm25 (from farm-haystack)\n",
      "  Using cached rank_bm25-0.2.2-py3-none-any.whl.metadata (3.2 kB)\n",
      "Requirement already satisfied: requests in /Users/oscar/opt/anaconda3/envs/llm-env/lib/python3.9/site-packages (from farm-haystack) (2.31.0)\n",
      "Collecting requests-cache<1.0.0 (from farm-haystack)\n",
      "  Using cached requests_cache-0.9.8-py3-none-any.whl.metadata (8.7 kB)\n",
      "Collecting scikit-learn>=1.3.0 (from farm-haystack)\n",
      "  Downloading scikit_learn-1.4.1.post1-cp39-cp39-macosx_10_9_x86_64.whl.metadata (11 kB)\n",
      "Collecting sseclient-py (from farm-haystack)\n",
      "  Using cached sseclient_py-1.8.0-py2.py3-none-any.whl.metadata (2.0 kB)\n",
      "Requirement already satisfied: tenacity in /Users/oscar/opt/anaconda3/envs/llm-env/lib/python3.9/site-packages (from farm-haystack) (8.2.3)\n",
      "Collecting tiktoken>=0.5.1 (from farm-haystack)\n",
      "  Downloading tiktoken-0.6.0-cp39-cp39-macosx_10_9_x86_64.whl.metadata (6.6 kB)\n",
      "Requirement already satisfied: tqdm in /Users/oscar/opt/anaconda3/envs/llm-env/lib/python3.9/site-packages (from farm-haystack) (4.66.2)\n",
      "Collecting transformers==4.37.2 (from farm-haystack)\n",
      "  Using cached transformers-4.37.2-py3-none-any.whl.metadata (129 kB)\n",
      "Requirement already satisfied: pyyaml<7.0,>=6.0 in /Users/oscar/opt/anaconda3/envs/llm-env/lib/python3.9/site-packages (from prompthub-py==4.0.0->farm-haystack) (6.0.1)\n",
      "Collecting filelock (from transformers==4.37.2->farm-haystack)\n",
      "  Downloading filelock-3.13.3-py3-none-any.whl.metadata (2.8 kB)\n",
      "Collecting huggingface-hub<1.0,>=0.19.3 (from transformers==4.37.2->farm-haystack)\n",
      "  Downloading huggingface_hub-0.22.1-py3-none-any.whl.metadata (12 kB)\n",
      "Requirement already satisfied: numpy>=1.17 in /Users/oscar/opt/anaconda3/envs/llm-env/lib/python3.9/site-packages (from transformers==4.37.2->farm-haystack) (1.26.4)\n",
      "Requirement already satisfied: packaging>=20.0 in /Users/oscar/opt/anaconda3/envs/llm-env/lib/python3.9/site-packages (from transformers==4.37.2->farm-haystack) (24.0)\n",
      "Collecting regex!=2019.12.17 (from transformers==4.37.2->farm-haystack)\n",
      "  Downloading regex-2023.12.25-cp39-cp39-macosx_10_9_x86_64.whl.metadata (40 kB)\n",
      "\u001b[2K     \u001b[38;2;114;156;31m━━━━━━━━━━━━━━━━━━━━━━━━━━━━━━━━━━━━━━━━\u001b[0m \u001b[32m40.9/40.9 kB\u001b[0m \u001b[31m1.9 MB/s\u001b[0m eta \u001b[36m0:00:00\u001b[0m\n",
      "\u001b[?25hCollecting tokenizers<0.19,>=0.14 (from transformers==4.37.2->farm-haystack)\n",
      "  Downloading tokenizers-0.15.2-cp39-cp39-macosx_10_12_x86_64.whl.metadata (6.7 kB)\n",
      "Collecting safetensors>=0.4.1 (from transformers==4.37.2->farm-haystack)\n",
      "  Downloading safetensors-0.4.2-cp39-cp39-macosx_10_12_x86_64.whl.metadata (3.8 kB)\n",
      "Requirement already satisfied: typing-extensions>=4.2.0 in /Users/oscar/opt/anaconda3/envs/llm-env/lib/python3.9/site-packages (from pydantic<2->farm-haystack) (4.10.0)\n",
      "Requirement already satisfied: charset-normalizer<4,>=2 in /Users/oscar/opt/anaconda3/envs/llm-env/lib/python3.9/site-packages (from requests->farm-haystack) (3.3.2)\n",
      "Requirement already satisfied: idna<4,>=2.5 in /Users/oscar/opt/anaconda3/envs/llm-env/lib/python3.9/site-packages (from requests->farm-haystack) (3.6)\n",
      "Requirement already satisfied: urllib3<3,>=1.21.1 in /Users/oscar/opt/anaconda3/envs/llm-env/lib/python3.9/site-packages (from requests->farm-haystack) (2.2.1)\n",
      "Requirement already satisfied: certifi>=2017.4.17 in /Users/oscar/opt/anaconda3/envs/llm-env/lib/python3.9/site-packages (from requests->farm-haystack) (2024.2.2)\n",
      "Collecting appdirs>=1.4.4 (from requests-cache<1.0.0->farm-haystack)\n",
      "  Downloading appdirs-1.4.4-py2.py3-none-any.whl.metadata (9.0 kB)\n",
      "Requirement already satisfied: attrs>=21.2 in /Users/oscar/opt/anaconda3/envs/llm-env/lib/python3.9/site-packages (from requests-cache<1.0.0->farm-haystack) (23.2.0)\n",
      "Collecting cattrs>=22.2 (from requests-cache<1.0.0->farm-haystack)\n",
      "  Using cached cattrs-23.2.3-py3-none-any.whl.metadata (10 kB)\n",
      "Collecting url-normalize>=1.4 (from requests-cache<1.0.0->farm-haystack)\n",
      "  Using cached url_normalize-1.4.3-py2.py3-none-any.whl.metadata (3.1 kB)\n",
      "Collecting scipy>=1.6.0 (from scikit-learn>=1.3.0->farm-haystack)\n",
      "  Downloading scipy-1.12.0-cp39-cp39-macosx_10_9_x86_64.whl.metadata (60 kB)\n",
      "\u001b[2K     \u001b[38;2;114;156;31m━━━━━━━━━━━━━━━━━━━━━━━━━━━━━━━━━━━━━━━━\u001b[0m \u001b[32m60.4/60.4 kB\u001b[0m \u001b[31m3.0 MB/s\u001b[0m eta \u001b[36m0:00:00\u001b[0m\n",
      "\u001b[?25hCollecting joblib>=1.2.0 (from scikit-learn>=1.3.0->farm-haystack)\n",
      "  Downloading joblib-1.3.2-py3-none-any.whl.metadata (5.4 kB)\n",
      "Collecting threadpoolctl>=2.0.0 (from scikit-learn>=1.3.0->farm-haystack)\n",
      "  Downloading threadpoolctl-3.4.0-py3-none-any.whl.metadata (13 kB)\n",
      "Requirement already satisfied: anyio in /Users/oscar/opt/anaconda3/envs/llm-env/lib/python3.9/site-packages (from httpx->farm-haystack) (4.3.0)\n",
      "Requirement already satisfied: httpcore==1.* in /Users/oscar/opt/anaconda3/envs/llm-env/lib/python3.9/site-packages (from httpx->farm-haystack) (1.0.4)\n",
      "Requirement already satisfied: sniffio in /Users/oscar/opt/anaconda3/envs/llm-env/lib/python3.9/site-packages (from httpx->farm-haystack) (1.3.1)\n",
      "Requirement already satisfied: h11<0.15,>=0.13 in /Users/oscar/opt/anaconda3/envs/llm-env/lib/python3.9/site-packages (from httpcore==1.*->httpx->farm-haystack) (0.14.0)\n",
      "Requirement already satisfied: jsonschema-specifications>=2023.03.6 in /Users/oscar/opt/anaconda3/envs/llm-env/lib/python3.9/site-packages (from jsonschema->farm-haystack) (2023.12.1)\n",
      "Requirement already satisfied: referencing>=0.28.4 in /Users/oscar/opt/anaconda3/envs/llm-env/lib/python3.9/site-packages (from jsonschema->farm-haystack) (0.34.0)\n",
      "Requirement already satisfied: rpds-py>=0.7.1 in /Users/oscar/opt/anaconda3/envs/llm-env/lib/python3.9/site-packages (from jsonschema->farm-haystack) (0.18.0)\n",
      "Requirement already satisfied: python-dateutil>=2.8.2 in /Users/oscar/opt/anaconda3/envs/llm-env/lib/python3.9/site-packages (from pandas->farm-haystack) (2.9.0)\n",
      "Requirement already satisfied: pytz>=2020.1 in /Users/oscar/opt/anaconda3/envs/llm-env/lib/python3.9/site-packages (from pandas->farm-haystack) (2024.1)\n",
      "Requirement already satisfied: tzdata>=2022.7 in /Users/oscar/opt/anaconda3/envs/llm-env/lib/python3.9/site-packages (from pandas->farm-haystack) (2024.1)\n",
      "Requirement already satisfied: six>=1.5 in /Users/oscar/opt/anaconda3/envs/llm-env/lib/python3.9/site-packages (from posthog->farm-haystack) (1.16.0)\n",
      "Requirement already satisfied: monotonic>=1.5 in /Users/oscar/opt/anaconda3/envs/llm-env/lib/python3.9/site-packages (from posthog->farm-haystack) (1.6)\n",
      "Requirement already satisfied: backoff>=1.10.0 in /Users/oscar/opt/anaconda3/envs/llm-env/lib/python3.9/site-packages (from posthog->farm-haystack) (2.2.1)\n",
      "Collecting inflect (from quantulum3->farm-haystack)\n",
      "  Using cached inflect-7.0.0-py3-none-any.whl.metadata (21 kB)\n",
      "Collecting num2words (from quantulum3->farm-haystack)\n",
      "  Using cached num2words-0.5.13-py3-none-any.whl.metadata (12 kB)\n",
      "Requirement already satisfied: exceptiongroup>=1.1.1 in /Users/oscar/opt/anaconda3/envs/llm-env/lib/python3.9/site-packages (from cattrs>=22.2->requests-cache<1.0.0->farm-haystack) (1.2.0)\n",
      "Collecting fsspec>=2023.5.0 (from huggingface-hub<1.0,>=0.19.3->transformers==4.37.2->farm-haystack)\n",
      "  Downloading fsspec-2024.3.1-py3-none-any.whl.metadata (6.8 kB)\n",
      "Collecting docopt>=0.6.2 (from num2words->quantulum3->farm-haystack)\n",
      "  Downloading docopt-0.6.2.tar.gz (25 kB)\n",
      "  Preparing metadata (setup.py) ... \u001b[?25ldone\n",
      "\u001b[?25hDownloading farm_haystack-1.25.1-py3-none-any.whl (768 kB)\n",
      "\u001b[2K   \u001b[38;2;114;156;31m━━━━━━━━━━━━━━━━━━━━━━━━━━━━━━━━━━━━━━━━\u001b[0m \u001b[32m768.7/768.7 kB\u001b[0m \u001b[31m1.1 MB/s\u001b[0m eta \u001b[36m0:00:00\u001b[0mm eta \u001b[36m0:00:01\u001b[0m[36m0:00:01\u001b[0mm\n",
      "\u001b[?25hUsing cached prompthub_py-4.0.0-py3-none-any.whl (6.9 kB)\n",
      "Using cached transformers-4.37.2-py3-none-any.whl (8.4 MB)\n",
      "Downloading pydantic-1.10.14-cp39-cp39-macosx_10_9_x86_64.whl (2.9 MB)\n",
      "\u001b[2K   \u001b[38;2;114;156;31m━━━━━━━━━━━━━━━━━━━━━━━━━━━━━━━━━━━━━━━━\u001b[0m \u001b[32m2.9/2.9 MB\u001b[0m \u001b[31m1.1 MB/s\u001b[0m eta \u001b[36m0:00:00\u001b[0m[31m1.0 MB/s\u001b[0m eta \u001b[36m0:00:01\u001b[0m0m\n",
      "\u001b[?25hUsing cached requests_cache-0.9.8-py3-none-any.whl (48 kB)\n",
      "Downloading scikit_learn-1.4.1.post1-cp39-cp39-macosx_10_9_x86_64.whl (11.6 MB)\n",
      "\u001b[2K   \u001b[38;2;114;156;31m━━━━━━━━━━━━━━━━━━━━━━━━━━━━━━━━━━━━━━━━\u001b[0m \u001b[32m11.6/11.6 MB\u001b[0m \u001b[31m808.9 kB/s\u001b[0m eta \u001b[36m0:00:00\u001b[0mm eta \u001b[36m0:00:01\u001b[0m[36m0:00:01\u001b[0m\n",
      "\u001b[?25hDownloading tiktoken-0.6.0-cp39-cp39-macosx_10_9_x86_64.whl (976 kB)\n",
      "\u001b[2K   \u001b[38;2;114;156;31m━━━━━━━━━━━━━━━━━━━━━━━━━━━━━━━━━━━━━━━━\u001b[0m \u001b[32m976.7/976.7 kB\u001b[0m \u001b[31m1.1 MB/s\u001b[0m eta \u001b[36m0:00:00\u001b[0mm eta \u001b[36m0:00:01\u001b[0m[36m0:00:01\u001b[0m\n",
      "\u001b[?25hUsing cached Events-0.5-py3-none-any.whl (6.8 kB)\n",
      "Downloading pillow-10.2.0-cp39-cp39-macosx_10_10_x86_64.whl (3.5 MB)\n",
      "\u001b[2K   \u001b[38;2;114;156;31m━━━━━━━━━━━━━━━━━━━━━━━━━━━━━━━━━━━━━━━━\u001b[0m \u001b[32m3.5/3.5 MB\u001b[0m \u001b[31m1.2 MB/s\u001b[0m eta \u001b[36m0:00:00\u001b[0mm eta \u001b[36m0:00:01\u001b[0m[36m0:00:01\u001b[0m\n",
      "\u001b[?25hDownloading platformdirs-4.2.0-py3-none-any.whl (17 kB)\n",
      "Using cached quantulum3-0.9.0-py3-none-any.whl (10.7 MB)\n",
      "Using cached rank_bm25-0.2.2-py3-none-any.whl (8.6 kB)\n",
      "Using cached sseclient_py-1.8.0-py2.py3-none-any.whl (8.8 kB)\n",
      "Downloading appdirs-1.4.4-py2.py3-none-any.whl (9.6 kB)\n",
      "Using cached cattrs-23.2.3-py3-none-any.whl (57 kB)\n",
      "Downloading huggingface_hub-0.22.1-py3-none-any.whl (388 kB)\n",
      "\u001b[2K   \u001b[38;2;114;156;31m━━━━━━━━━━━━━━━━━━━━━━━━━━━━━━━━━━━━━━━━\u001b[0m \u001b[32m388.6/388.6 kB\u001b[0m \u001b[31m1.3 MB/s\u001b[0m eta \u001b[36m0:00:00\u001b[0m[31m1.3 MB/s\u001b[0m eta \u001b[36m0:00:01\u001b[0m\n",
      "\u001b[?25hDownloading joblib-1.3.2-py3-none-any.whl (302 kB)\n",
      "\u001b[2K   \u001b[38;2;114;156;31m━━━━━━━━━━━━━━━━━━━━━━━━━━━━━━━━━━━━━━━━\u001b[0m \u001b[32m302.2/302.2 kB\u001b[0m \u001b[31m1.3 MB/s\u001b[0m eta \u001b[36m0:00:00\u001b[0m[31m1.4 MB/s\u001b[0m eta \u001b[36m0:00:01\u001b[0m\n",
      "\u001b[?25hDownloading regex-2023.12.25-cp39-cp39-macosx_10_9_x86_64.whl (296 kB)\n",
      "\u001b[2K   \u001b[38;2;114;156;31m━━━━━━━━━━━━━━━━━━━━━━━━━━━━━━━━━━━━━━━━\u001b[0m \u001b[32m296.4/296.4 kB\u001b[0m \u001b[31m1.5 MB/s\u001b[0m eta \u001b[36m0:00:00\u001b[0m[31m1.6 MB/s\u001b[0m eta \u001b[36m0:00:01\u001b[0m\n",
      "\u001b[?25hDownloading safetensors-0.4.2-cp39-cp39-macosx_10_12_x86_64.whl (426 kB)\n",
      "\u001b[2K   \u001b[38;2;114;156;31m━━━━━━━━━━━━━━━━━━━━━━━━━━━━━━━━━━━━━━━━\u001b[0m \u001b[32m426.4/426.4 kB\u001b[0m \u001b[31m1.4 MB/s\u001b[0m eta \u001b[36m0:00:00\u001b[0m[36m0:00:01\u001b[0mm eta \u001b[36m0:00:01\u001b[0m\n",
      "\u001b[?25hDownloading scipy-1.12.0-cp39-cp39-macosx_10_9_x86_64.whl (38.9 MB)\n",
      "\u001b[2K   \u001b[38;2;114;156;31m━━━━━━━━━━━━━━━━━━━━━━━━━━━━━━━━━━━━━━━━\u001b[0m \u001b[32m38.9/38.9 MB\u001b[0m \u001b[31m571.1 kB/s\u001b[0m eta \u001b[36m0:00:00\u001b[0mm eta \u001b[36m0:00:01\u001b[0m[36m0:00:02\u001b[0m\n",
      "\u001b[?25hDownloading threadpoolctl-3.4.0-py3-none-any.whl (17 kB)\n",
      "Downloading tokenizers-0.15.2-cp39-cp39-macosx_10_12_x86_64.whl (2.6 MB)\n",
      "\u001b[2K   \u001b[38;2;114;156;31m━━━━━━━━━━━━━━━━━━━━━━━━━━━━━━━━━━━━━━━━\u001b[0m \u001b[32m2.6/2.6 MB\u001b[0m \u001b[31m979.1 kB/s\u001b[0m eta \u001b[36m0:00:00\u001b[0m[36m0:00:01\u001b[0mm eta \u001b[36m0:00:01\u001b[0m\n",
      "\u001b[?25hUsing cached url_normalize-1.4.3-py2.py3-none-any.whl (6.8 kB)\n",
      "Downloading filelock-3.13.3-py3-none-any.whl (11 kB)\n",
      "Using cached inflect-7.0.0-py3-none-any.whl (34 kB)\n",
      "Using cached num2words-0.5.13-py3-none-any.whl (143 kB)\n",
      "Downloading fsspec-2024.3.1-py3-none-any.whl (171 kB)\n",
      "\u001b[2K   \u001b[38;2;114;156;31m━━━━━━━━━━━━━━━━━━━━━━━━━━━━━━━━━━━━━━━\u001b[0m \u001b[32m172.0/172.0 kB\u001b[0m \u001b[31m817.9 kB/s\u001b[0m eta \u001b[36m0:00:00\u001b[0m kB/s\u001b[0m eta \u001b[36m0:00:01\u001b[0m:01\u001b[0m\n",
      "\u001b[?25hBuilding wheels for collected packages: docopt\n",
      "  Building wheel for docopt (setup.py) ... \u001b[?25ldone\n",
      "\u001b[?25h  Created wheel for docopt: filename=docopt-0.6.2-py2.py3-none-any.whl size=13705 sha256=c2e387d0187d51f4199b7b83a6fa681805a3ceff73961049c1fa1f5c505d37fe\n",
      "  Stored in directory: /Users/oscar/Library/Caches/pip/wheels/70/4a/46/1309fc853b8d395e60bafaf1b6df7845bdd82c95fd59dd8d2b\n",
      "Successfully built docopt\n",
      "Installing collected packages: sseclient-py, events, docopt, appdirs, url-normalize, threadpoolctl, scipy, safetensors, regex, rank-bm25, pydantic, platformdirs, pillow, num2words, joblib, fsspec, filelock, cattrs, tiktoken, scikit-learn, requests-cache, prompthub-py, inflect, huggingface-hub, tokenizers, quantulum3, transformers, farm-haystack\n",
      "  Attempting uninstall: pydantic\n",
      "    Found existing installation: pydantic 2.6.4\n",
      "    Uninstalling pydantic-2.6.4:\n",
      "      Successfully uninstalled pydantic-2.6.4\n",
      "Successfully installed appdirs-1.4.4 cattrs-23.2.3 docopt-0.6.2 events-0.5 farm-haystack-1.25.1 filelock-3.13.3 fsspec-2024.3.1 huggingface-hub-0.22.1 inflect-7.0.0 joblib-1.3.2 num2words-0.5.13 pillow-10.2.0 platformdirs-4.2.0 prompthub-py-4.0.0 pydantic-1.10.14 quantulum3-0.9.0 rank-bm25-0.2.2 regex-2023.12.25 requests-cache-0.9.8 safetensors-0.4.2 scikit-learn-1.4.1.post1 scipy-1.12.0 sseclient-py-1.8.0 threadpoolctl-3.4.0 tiktoken-0.6.0 tokenizers-0.15.2 transformers-4.37.2 url-normalize-1.4.3\n"
     ]
    }
   ],
   "source": [
    "!pip install farm-haystack"
   ]
  },
  {
   "cell_type": "code",
   "execution_count": 33,
   "id": "f48c503f-345c-4d7e-aa9b-bf095a8e36eb",
   "metadata": {},
   "outputs": [],
   "source": [
    "#from haystack.document_store import ElasticsearchDocumentStore\n",
    "\n",
    "# return the document embedding for later use with the dense retriever\n",
    "#document_store = ElasticsearchDocumentStore(embedding_fields=\"embedding\")"
   ]
  },
  {
   "cell_type": "code",
   "execution_count": 34,
   "id": "217b71eb-3474-48fa-834b-128d886214db",
   "metadata": {},
   "outputs": [
    {
     "ename": "ModuleNotFoundError",
     "evalue": "No module named 'haystack_integrations'",
     "output_type": "error",
     "traceback": [
      "\u001b[0;31m---------------------------------------------------------------------------\u001b[0m",
      "\u001b[0;31mModuleNotFoundError\u001b[0m                       Traceback (most recent call last)",
      "Cell \u001b[0;32mIn[34], line 1\u001b[0m\n\u001b[0;32m----> 1\u001b[0m \u001b[38;5;28;01mfrom\u001b[39;00m \u001b[38;5;21;01mhaystack_integrations\u001b[39;00m\u001b[38;5;21;01m.\u001b[39;00m\u001b[38;5;21;01mdocument_stores\u001b[39;00m\u001b[38;5;21;01m.\u001b[39;00m\u001b[38;5;21;01melasticsearch\u001b[39;00m \u001b[38;5;28;01mimport\u001b[39;00m ElasticsearchDocumentStore\n\u001b[1;32m      3\u001b[0m document_store \u001b[38;5;241m=\u001b[39m ElasticsearchDocumentStore(embedding_fields\u001b[38;5;241m=\u001b[39m\u001b[38;5;124m\"\u001b[39m\u001b[38;5;124membedding\u001b[39m\u001b[38;5;124m\"\u001b[39m, hosts \u001b[38;5;241m=\u001b[39m \u001b[38;5;124m\"\u001b[39m\u001b[38;5;124mhttp://localhost:9200\u001b[39m\u001b[38;5;124m\"\u001b[39m)\n",
      "\u001b[0;31mModuleNotFoundError\u001b[0m: No module named 'haystack_integrations'"
     ]
    }
   ],
   "source": [
    "from haystack_integrations.document_stores.elasticsearch import ElasticsearchDocumentStore\n",
    "\n",
    "document_store = ElasticsearchDocumentStore(embedding_fields=\"embedding\", hosts = \"http://localhost:9200\")"
   ]
  },
  {
   "cell_type": "code",
   "execution_count": 35,
   "id": "ab10a292-1322-490d-95a2-5ce07a15603c",
   "metadata": {},
   "outputs": [
    {
     "name": "stdout",
     "output_type": "stream",
     "text": [
      "Oscar066\n"
     ]
    }
   ],
   "source": [
    "!huggingface-cli whoami"
   ]
  },
  {
   "cell_type": "code",
   "execution_count": 38,
   "id": "4c89d5aa-3a1f-4f3b-8e8b-9181ee2fea1b",
   "metadata": {},
   "outputs": [
    {
     "name": "stdout",
     "output_type": "stream",
     "text": [
      "REPO ID REPO TYPE SIZE ON DISK NB FILES LAST_ACCESSED LAST_MODIFIED REFS LOCAL PATH \n",
      "------- --------- ------------ -------- ------------- ------------- ---- ---------- \n",
      "\n",
      "Done in 0.0s. Scanned 0 repo(s) for a total of \u001b[1m\u001b[31m0.0\u001b[0m.\n",
      "\u001b[90mGot 7 warning(s) while scanning. Use -vvv to print details.\u001b[0m\n"
     ]
    }
   ],
   "source": [
    "!huggingface-cli scan-cache"
   ]
  },
  {
   "cell_type": "code",
   "execution_count": 39,
   "id": "28c1531f-d8cf-4ce9-bdb9-ff437fb9e036",
   "metadata": {},
   "outputs": [
    {
     "ename": "ModuleNotFoundError",
     "evalue": "No module named 'haystack.document_stores.elasticsearch'",
     "output_type": "error",
     "traceback": [
      "\u001b[0;31m---------------------------------------------------------------------------\u001b[0m",
      "\u001b[0;31mModuleNotFoundError\u001b[0m                       Traceback (most recent call last)",
      "Cell \u001b[0;32mIn[39], line 2\u001b[0m\n\u001b[1;32m      1\u001b[0m \u001b[38;5;28;01mfrom\u001b[39;00m \u001b[38;5;21;01mhaystack\u001b[39;00m \u001b[38;5;28;01mimport\u001b[39;00m Document\n\u001b[0;32m----> 2\u001b[0m \u001b[38;5;28;01mfrom\u001b[39;00m \u001b[38;5;21;01mhaystack\u001b[39;00m\u001b[38;5;21;01m.\u001b[39;00m\u001b[38;5;21;01mdocument_stores\u001b[39;00m\u001b[38;5;21;01m.\u001b[39;00m\u001b[38;5;21;01melasticsearch\u001b[39;00m \u001b[38;5;28;01mimport\u001b[39;00m ElasticsearchDocumentStore\n\u001b[1;32m      3\u001b[0m \u001b[38;5;28;01mfrom\u001b[39;00m \u001b[38;5;21;01mhaystack\u001b[39;00m\u001b[38;5;21;01m.\u001b[39;00m\u001b[38;5;21;01mcomponents\u001b[39;00m\u001b[38;5;21;01m.\u001b[39;00m\u001b[38;5;21;01mretrievers\u001b[39;00m\u001b[38;5;21;01m.\u001b[39;00m\u001b[38;5;21;01melasticsearch\u001b[39;00m \u001b[38;5;28;01mimport\u001b[39;00m ElasticsearchBM25Retriever\n\u001b[1;32m      5\u001b[0m document_store \u001b[38;5;241m=\u001b[39m ElasticsearchDocumentStore(hosts\u001b[38;5;241m=\u001b[39m\u001b[38;5;124m\"\u001b[39m\u001b[38;5;124mhttp://localhost:9200\u001b[39m\u001b[38;5;124m\"\u001b[39m)\n",
      "\u001b[0;31mModuleNotFoundError\u001b[0m: No module named 'haystack.document_stores.elasticsearch'"
     ]
    }
   ],
   "source": [
    "from haystack import Document\n",
    "from haystack.document_stores.elasticsearch import ElasticsearchDocumentStore\n",
    "from haystack.components.retrievers.elasticsearch import ElasticsearchBM25Retriever\n",
    "\n",
    "document_store = ElasticsearchDocumentStore(hosts=\"http://localhost:9200\")\n",
    "retriever = ElasticsearchBM25Retriever(document_store=document_store)\n",
    "\n",
    "# Add documents to DocumentStore\n",
    "documents = [\n",
    "    Document(text=\"My name is Carla and I live in Berlin\"),\n",
    "    Document(text=\"My name is Paul and I live in New York\"),\n",
    "    Document(text=\"My name is Silvano and I live in Matera\"),\n",
    "    Document(text=\"My name is Usagi Tsukino and I live in Tokyo\"),\n",
    "]\n",
    "document_store.write_documents(documents)\n",
    "\n",
    "result = retriever.run(query=\"Who lives in Berlin?\")\n",
    "for doc in result[\"documents\"]:\n",
    "    print(doc.content)"
   ]
  },
  {
   "cell_type": "code",
   "execution_count": 5,
   "id": "5bbe6463-b688-4ff1-b716-4b9003336982",
   "metadata": {},
   "outputs": [
    {
     "ename": "PydanticSchemaGenerationError",
     "evalue": "Unable to generate pydantic-core schema for <class 'pandas.core.frame.DataFrame'>. Set `arbitrary_types_allowed=True` in the model_config to ignore this error or implement `__get_pydantic_core_schema__` on your type to fully support it.\n\nIf you got this error by calling handler(<some type>) within `__get_pydantic_core_schema__` then you likely need to call `handler.generate_schema(<some type>)` since we do not call `__get_pydantic_core_schema__` on `<some type>` otherwise to avoid infinite recursion.\n\nFor further information visit https://errors.pydantic.dev/2.6/u/schema-for-unknown-type",
     "output_type": "error",
     "traceback": [
      "\u001b[0;31m---------------------------------------------------------------------------\u001b[0m",
      "\u001b[0;31mPydanticSchemaGenerationError\u001b[0m             Traceback (most recent call last)",
      "Cell \u001b[0;32mIn[5], line 1\u001b[0m\n\u001b[0;32m----> 1\u001b[0m \u001b[38;5;28;01mfrom\u001b[39;00m \u001b[38;5;21;01mhaystack\u001b[39;00m\u001b[38;5;21;01m.\u001b[39;00m\u001b[38;5;21;01mdocument_store\u001b[39;00m \u001b[38;5;28;01mimport\u001b[39;00m ElasticsearchDocumentStore\n\u001b[1;32m      3\u001b[0m \u001b[38;5;66;03m# Initialize ElasticsearchDocumentStore\u001b[39;00m\n\u001b[1;32m      4\u001b[0m document_store \u001b[38;5;241m=\u001b[39m ElasticsearchDocumentStore(host\u001b[38;5;241m=\u001b[39m\u001b[38;5;124m\"\u001b[39m\u001b[38;5;124mlocalhost\u001b[39m\u001b[38;5;124m\"\u001b[39m, username\u001b[38;5;241m=\u001b[39m\u001b[38;5;124m\"\u001b[39m\u001b[38;5;124m\"\u001b[39m, password\u001b[38;5;241m=\u001b[39m\u001b[38;5;124m\"\u001b[39m\u001b[38;5;124m\"\u001b[39m, index\u001b[38;5;241m=\u001b[39m\u001b[38;5;124m\"\u001b[39m\u001b[38;5;124mdocument\u001b[39m\u001b[38;5;124m\"\u001b[39m)\n",
      "File \u001b[0;32m~/opt/anaconda3/envs/learn-env/lib/python3.8/site-packages/haystack/__init__.py:10\u001b[0m\n\u001b[1;32m      6\u001b[0m __version__: \u001b[38;5;28mstr\u001b[39m \u001b[38;5;241m=\u001b[39m \u001b[38;5;28mstr\u001b[39m(metadata\u001b[38;5;241m.\u001b[39mversion(\u001b[38;5;124m\"\u001b[39m\u001b[38;5;124mfarm-haystack\u001b[39m\u001b[38;5;124m\"\u001b[39m))\n\u001b[1;32m      9\u001b[0m \u001b[38;5;28;01mimport\u001b[39;00m \u001b[38;5;21;01mhaystack\u001b[39;00m\u001b[38;5;21;01m.\u001b[39;00m\u001b[38;5;21;01msilenceable_tqdm\u001b[39;00m  \u001b[38;5;66;03m# Needs to be imported first to wrap TQDM for all following modules\u001b[39;00m\n\u001b[0;32m---> 10\u001b[0m \u001b[38;5;28;01mfrom\u001b[39;00m \u001b[38;5;21;01mhaystack\u001b[39;00m\u001b[38;5;21;01m.\u001b[39;00m\u001b[38;5;21;01mschema\u001b[39;00m \u001b[38;5;28;01mimport\u001b[39;00m Document, Answer, Label, MultiLabel, Span, EvaluationResult, TableCell\n\u001b[1;32m     11\u001b[0m \u001b[38;5;28;01mfrom\u001b[39;00m \u001b[38;5;21;01mhaystack\u001b[39;00m\u001b[38;5;21;01m.\u001b[39;00m\u001b[38;5;21;01mnodes\u001b[39;00m\u001b[38;5;21;01m.\u001b[39;00m\u001b[38;5;21;01mbase\u001b[39;00m \u001b[38;5;28;01mimport\u001b[39;00m BaseComponent\n\u001b[1;32m     12\u001b[0m \u001b[38;5;28;01mfrom\u001b[39;00m \u001b[38;5;21;01mhaystack\u001b[39;00m\u001b[38;5;21;01m.\u001b[39;00m\u001b[38;5;21;01mpipelines\u001b[39;00m\u001b[38;5;21;01m.\u001b[39;00m\u001b[38;5;21;01mbase\u001b[39;00m \u001b[38;5;28;01mimport\u001b[39;00m Pipeline\n",
      "File \u001b[0;32m~/opt/anaconda3/envs/learn-env/lib/python3.8/site-packages/haystack/schema.py:42\u001b[0m\n\u001b[1;32m     36\u001b[0m FilterType \u001b[38;5;241m=\u001b[39m Dict[\u001b[38;5;28mstr\u001b[39m, Union[Dict[\u001b[38;5;28mstr\u001b[39m, Any], List[Any], \u001b[38;5;28mstr\u001b[39m, \u001b[38;5;28mint\u001b[39m, \u001b[38;5;28mfloat\u001b[39m, \u001b[38;5;28mbool\u001b[39m]]\n\u001b[1;32m     38\u001b[0m LABEL_DATETIME_FORMAT: \u001b[38;5;28mstr\u001b[39m \u001b[38;5;241m=\u001b[39m \u001b[38;5;124m\"\u001b[39m\u001b[38;5;124m%\u001b[39m\u001b[38;5;124mY-\u001b[39m\u001b[38;5;124m%\u001b[39m\u001b[38;5;124mm-\u001b[39m\u001b[38;5;132;01m%d\u001b[39;00m\u001b[38;5;124m \u001b[39m\u001b[38;5;124m%\u001b[39m\u001b[38;5;124mH:\u001b[39m\u001b[38;5;124m%\u001b[39m\u001b[38;5;124mM:\u001b[39m\u001b[38;5;124m%\u001b[39m\u001b[38;5;124mS\u001b[39m\u001b[38;5;124m\"\u001b[39m\n\u001b[1;32m     41\u001b[0m \u001b[38;5;129;43m@dataclass\u001b[39;49m\n\u001b[0;32m---> 42\u001b[0m \u001b[38;5;28;43;01mclass\u001b[39;49;00m\u001b[43m \u001b[49m\u001b[38;5;21;43;01mDocument\u001b[39;49;00m\u001b[43m:\u001b[49m\n\u001b[1;32m     43\u001b[0m \u001b[43m    \u001b[49m\u001b[38;5;28;43mid\u001b[39;49m\u001b[43m:\u001b[49m\u001b[43m \u001b[49m\u001b[38;5;28;43mstr\u001b[39;49m\n\u001b[1;32m     44\u001b[0m \u001b[43m    \u001b[49m\u001b[43mcontent\u001b[49m\u001b[43m:\u001b[49m\u001b[43m \u001b[49m\u001b[43mUnion\u001b[49m\u001b[43m[\u001b[49m\u001b[38;5;28;43mstr\u001b[39;49m\u001b[43m,\u001b[49m\u001b[43m \u001b[49m\u001b[43mDataFrame\u001b[49m\u001b[43m]\u001b[49m\n",
      "File \u001b[0;32m~/opt/anaconda3/envs/learn-env/lib/python3.8/site-packages/pydantic/dataclasses.py:250\u001b[0m, in \u001b[0;36mdataclass\u001b[0;34m(_cls, init, repr, eq, order, unsafe_hash, frozen, config, validate_on_init, kw_only, slots)\u001b[0m\n\u001b[1;32m    247\u001b[0m \u001b[38;5;28;01mif\u001b[39;00m _cls \u001b[38;5;129;01mis\u001b[39;00m \u001b[38;5;28;01mNone\u001b[39;00m:\n\u001b[1;32m    248\u001b[0m     \u001b[38;5;28;01mreturn\u001b[39;00m create_dataclass\n\u001b[0;32m--> 250\u001b[0m \u001b[38;5;28;01mreturn\u001b[39;00m \u001b[43mcreate_dataclass\u001b[49m\u001b[43m(\u001b[49m\u001b[43m_cls\u001b[49m\u001b[43m)\u001b[49m\n",
      "File \u001b[0;32m~/opt/anaconda3/envs/learn-env/lib/python3.8/site-packages/pydantic/dataclasses.py:241\u001b[0m, in \u001b[0;36mdataclass.<locals>.create_dataclass\u001b[0;34m(cls)\u001b[0m\n\u001b[1;32m    239\u001b[0m \u001b[38;5;28mcls\u001b[39m\u001b[38;5;241m.\u001b[39m\u001b[38;5;18m__module__\u001b[39m \u001b[38;5;241m=\u001b[39m original_cls\u001b[38;5;241m.\u001b[39m\u001b[38;5;18m__module__\u001b[39m\n\u001b[1;32m    240\u001b[0m \u001b[38;5;28mcls\u001b[39m\u001b[38;5;241m.\u001b[39m\u001b[38;5;18m__qualname__\u001b[39m \u001b[38;5;241m=\u001b[39m original_cls\u001b[38;5;241m.\u001b[39m\u001b[38;5;18m__qualname__\u001b[39m\n\u001b[0;32m--> 241\u001b[0m pydantic_complete \u001b[38;5;241m=\u001b[39m \u001b[43m_pydantic_dataclasses\u001b[49m\u001b[38;5;241;43m.\u001b[39;49m\u001b[43mcomplete_dataclass\u001b[49m\u001b[43m(\u001b[49m\n\u001b[1;32m    242\u001b[0m \u001b[43m    \u001b[49m\u001b[38;5;28;43mcls\u001b[39;49m\u001b[43m,\u001b[49m\u001b[43m \u001b[49m\u001b[43mconfig_wrapper\u001b[49m\u001b[43m,\u001b[49m\u001b[43m \u001b[49m\u001b[43mraise_errors\u001b[49m\u001b[38;5;241;43m=\u001b[39;49m\u001b[38;5;28;43;01mFalse\u001b[39;49;00m\u001b[43m,\u001b[49m\u001b[43m \u001b[49m\u001b[43mtypes_namespace\u001b[49m\u001b[38;5;241;43m=\u001b[39;49m\u001b[38;5;28;43;01mNone\u001b[39;49;00m\n\u001b[1;32m    243\u001b[0m \u001b[43m\u001b[49m\u001b[43m)\u001b[49m\n\u001b[1;32m    244\u001b[0m \u001b[38;5;28mcls\u001b[39m\u001b[38;5;241m.\u001b[39m__pydantic_complete__ \u001b[38;5;241m=\u001b[39m pydantic_complete  \u001b[38;5;66;03m# type: ignore\u001b[39;00m\n\u001b[1;32m    245\u001b[0m \u001b[38;5;28;01mreturn\u001b[39;00m \u001b[38;5;28mcls\u001b[39m\n",
      "File \u001b[0;32m~/opt/anaconda3/envs/learn-env/lib/python3.8/site-packages/pydantic/_internal/_dataclasses.py:154\u001b[0m, in \u001b[0;36mcomplete_dataclass\u001b[0;34m(cls, config_wrapper, raise_errors, types_namespace)\u001b[0m\n\u001b[1;32m    145\u001b[0m         schema \u001b[38;5;241m=\u001b[39m get_core_schema(\n\u001b[1;32m    146\u001b[0m             \u001b[38;5;28mcls\u001b[39m,\n\u001b[1;32m    147\u001b[0m             CallbackGetCoreSchemaHandler(\n\u001b[0;32m   (...)\u001b[0m\n\u001b[1;32m    151\u001b[0m             ),\n\u001b[1;32m    152\u001b[0m         )\n\u001b[1;32m    153\u001b[0m     \u001b[38;5;28;01melse\u001b[39;00m:\n\u001b[0;32m--> 154\u001b[0m         schema \u001b[38;5;241m=\u001b[39m \u001b[43mgen_schema\u001b[49m\u001b[38;5;241;43m.\u001b[39;49m\u001b[43mgenerate_schema\u001b[49m\u001b[43m(\u001b[49m\u001b[38;5;28;43mcls\u001b[39;49m\u001b[43m,\u001b[49m\u001b[43m \u001b[49m\u001b[43mfrom_dunder_get_core_schema\u001b[49m\u001b[38;5;241;43m=\u001b[39;49m\u001b[38;5;28;43;01mFalse\u001b[39;49;00m\u001b[43m)\u001b[49m\n\u001b[1;32m    155\u001b[0m \u001b[38;5;28;01mexcept\u001b[39;00m PydanticUndefinedAnnotation \u001b[38;5;28;01mas\u001b[39;00m e:\n\u001b[1;32m    156\u001b[0m     \u001b[38;5;28;01mif\u001b[39;00m raise_errors:\n",
      "File \u001b[0;32m~/opt/anaconda3/envs/learn-env/lib/python3.8/site-packages/pydantic/_internal/_generate_schema.py:499\u001b[0m, in \u001b[0;36mGenerateSchema.generate_schema\u001b[0;34m(self, obj, from_dunder_get_core_schema)\u001b[0m\n\u001b[1;32m    496\u001b[0m         schema \u001b[38;5;241m=\u001b[39m from_property\n\u001b[1;32m    498\u001b[0m \u001b[38;5;28;01mif\u001b[39;00m schema \u001b[38;5;129;01mis\u001b[39;00m \u001b[38;5;28;01mNone\u001b[39;00m:\n\u001b[0;32m--> 499\u001b[0m     schema \u001b[38;5;241m=\u001b[39m \u001b[38;5;28;43mself\u001b[39;49m\u001b[38;5;241;43m.\u001b[39;49m\u001b[43m_generate_schema\u001b[49m\u001b[43m(\u001b[49m\u001b[43mobj\u001b[49m\u001b[43m)\u001b[49m\n\u001b[1;32m    501\u001b[0m metadata_js_function \u001b[38;5;241m=\u001b[39m _extract_get_pydantic_json_schema(obj, schema)\n\u001b[1;32m    502\u001b[0m \u001b[38;5;28;01mif\u001b[39;00m metadata_js_function \u001b[38;5;129;01mis\u001b[39;00m \u001b[38;5;129;01mnot\u001b[39;00m \u001b[38;5;28;01mNone\u001b[39;00m:\n",
      "File \u001b[0;32m~/opt/anaconda3/envs/learn-env/lib/python3.8/site-packages/pydantic/_internal/_generate_schema.py:737\u001b[0m, in \u001b[0;36mGenerateSchema._generate_schema\u001b[0;34m(self, obj)\u001b[0m\n\u001b[1;32m    735\u001b[0m needs_apply_discriminated_union \u001b[38;5;241m=\u001b[39m \u001b[38;5;28mself\u001b[39m\u001b[38;5;241m.\u001b[39m_needs_apply_discriminated_union\n\u001b[1;32m    736\u001b[0m \u001b[38;5;28mself\u001b[39m\u001b[38;5;241m.\u001b[39m_needs_apply_discriminated_union \u001b[38;5;241m=\u001b[39m \u001b[38;5;28;01mFalse\u001b[39;00m\n\u001b[0;32m--> 737\u001b[0m schema \u001b[38;5;241m=\u001b[39m \u001b[38;5;28mself\u001b[39m\u001b[38;5;241m.\u001b[39m_post_process_generated_schema(\u001b[38;5;28;43mself\u001b[39;49m\u001b[38;5;241;43m.\u001b[39;49m\u001b[43m_generate_schema_inner\u001b[49m\u001b[43m(\u001b[49m\u001b[43mobj\u001b[49m\u001b[43m)\u001b[49m)\n\u001b[1;32m    738\u001b[0m \u001b[38;5;28mself\u001b[39m\u001b[38;5;241m.\u001b[39m_has_invalid_schema \u001b[38;5;241m=\u001b[39m \u001b[38;5;28mself\u001b[39m\u001b[38;5;241m.\u001b[39m_has_invalid_schema \u001b[38;5;129;01mor\u001b[39;00m has_invalid_schema\n\u001b[1;32m    739\u001b[0m \u001b[38;5;28mself\u001b[39m\u001b[38;5;241m.\u001b[39m_needs_apply_discriminated_union \u001b[38;5;241m=\u001b[39m \u001b[38;5;28mself\u001b[39m\u001b[38;5;241m.\u001b[39m_needs_apply_discriminated_union \u001b[38;5;129;01mor\u001b[39;00m needs_apply_discriminated_union\n",
      "File \u001b[0;32m~/opt/anaconda3/envs/learn-env/lib/python3.8/site-packages/pydantic/_internal/_generate_schema.py:764\u001b[0m, in \u001b[0;36mGenerateSchema._generate_schema_inner\u001b[0;34m(self, obj)\u001b[0m\n\u001b[1;32m    761\u001b[0m \u001b[38;5;28;01mif\u001b[39;00m \u001b[38;5;28misinstance\u001b[39m(obj, PydanticRecursiveRef):\n\u001b[1;32m    762\u001b[0m     \u001b[38;5;28;01mreturn\u001b[39;00m core_schema\u001b[38;5;241m.\u001b[39mdefinition_reference_schema(schema_ref\u001b[38;5;241m=\u001b[39mobj\u001b[38;5;241m.\u001b[39mtype_ref)\n\u001b[0;32m--> 764\u001b[0m \u001b[38;5;28;01mreturn\u001b[39;00m \u001b[38;5;28;43mself\u001b[39;49m\u001b[38;5;241;43m.\u001b[39;49m\u001b[43mmatch_type\u001b[49m\u001b[43m(\u001b[49m\u001b[43mobj\u001b[49m\u001b[43m)\u001b[49m\n",
      "File \u001b[0;32m~/opt/anaconda3/envs/learn-env/lib/python3.8/site-packages/pydantic/_internal/_generate_schema.py:838\u001b[0m, in \u001b[0;36mGenerateSchema.match_type\u001b[0;34m(self, obj)\u001b[0m\n\u001b[1;32m    835\u001b[0m     \u001b[38;5;28;01mreturn\u001b[39;00m get_enum_core_schema(obj, \u001b[38;5;28mself\u001b[39m\u001b[38;5;241m.\u001b[39m_config_wrapper\u001b[38;5;241m.\u001b[39mconfig_dict)\n\u001b[1;32m    837\u001b[0m \u001b[38;5;28;01mif\u001b[39;00m _typing_extra\u001b[38;5;241m.\u001b[39mis_dataclass(obj):\n\u001b[0;32m--> 838\u001b[0m     \u001b[38;5;28;01mreturn\u001b[39;00m \u001b[38;5;28;43mself\u001b[39;49m\u001b[38;5;241;43m.\u001b[39;49m\u001b[43m_dataclass_schema\u001b[49m\u001b[43m(\u001b[49m\u001b[43mobj\u001b[49m\u001b[43m,\u001b[49m\u001b[43m \u001b[49m\u001b[38;5;28;43;01mNone\u001b[39;49;00m\u001b[43m)\u001b[49m\n\u001b[1;32m    840\u001b[0m res \u001b[38;5;241m=\u001b[39m \u001b[38;5;28mself\u001b[39m\u001b[38;5;241m.\u001b[39m_get_prepare_pydantic_annotations_for_known_type(obj, ())\n\u001b[1;32m    841\u001b[0m \u001b[38;5;28;01mif\u001b[39;00m res \u001b[38;5;129;01mis\u001b[39;00m \u001b[38;5;129;01mnot\u001b[39;00m \u001b[38;5;28;01mNone\u001b[39;00m:\n",
      "File \u001b[0;32m~/opt/anaconda3/envs/learn-env/lib/python3.8/site-packages/pydantic/_internal/_generate_schema.py:1487\u001b[0m, in \u001b[0;36mGenerateSchema._dataclass_schema\u001b[0;34m(self, dataclass, origin)\u001b[0m\n\u001b[1;32m   1484\u001b[0m decorators \u001b[38;5;241m=\u001b[39m dataclass\u001b[38;5;241m.\u001b[39m\u001b[38;5;18m__dict__\u001b[39m\u001b[38;5;241m.\u001b[39mget(\u001b[38;5;124m'\u001b[39m\u001b[38;5;124m__pydantic_decorators__\u001b[39m\u001b[38;5;124m'\u001b[39m) \u001b[38;5;129;01mor\u001b[39;00m DecoratorInfos\u001b[38;5;241m.\u001b[39mbuild(dataclass)\n\u001b[1;32m   1485\u001b[0m \u001b[38;5;66;03m# Move kw_only=False args to the start of the list, as this is how vanilla dataclasses work.\u001b[39;00m\n\u001b[1;32m   1486\u001b[0m \u001b[38;5;66;03m# Note that when kw_only is missing or None, it is treated as equivalent to kw_only=True\u001b[39;00m\n\u001b[0;32m-> 1487\u001b[0m args \u001b[38;5;241m=\u001b[39m \u001b[38;5;28;43msorted\u001b[39;49m\u001b[43m(\u001b[49m\n\u001b[1;32m   1488\u001b[0m \u001b[43m    \u001b[49m\u001b[43m(\u001b[49m\u001b[38;5;28;43mself\u001b[39;49m\u001b[38;5;241;43m.\u001b[39;49m\u001b[43m_generate_dc_field_schema\u001b[49m\u001b[43m(\u001b[49m\u001b[43mk\u001b[49m\u001b[43m,\u001b[49m\u001b[43m \u001b[49m\u001b[43mv\u001b[49m\u001b[43m,\u001b[49m\u001b[43m \u001b[49m\u001b[43mdecorators\u001b[49m\u001b[43m)\u001b[49m\u001b[43m \u001b[49m\u001b[38;5;28;43;01mfor\u001b[39;49;00m\u001b[43m \u001b[49m\u001b[43mk\u001b[49m\u001b[43m,\u001b[49m\u001b[43m \u001b[49m\u001b[43mv\u001b[49m\u001b[43m \u001b[49m\u001b[38;5;129;43;01min\u001b[39;49;00m\u001b[43m \u001b[49m\u001b[43mfields\u001b[49m\u001b[38;5;241;43m.\u001b[39;49m\u001b[43mitems\u001b[49m\u001b[43m(\u001b[49m\u001b[43m)\u001b[49m\u001b[43m)\u001b[49m\u001b[43m,\u001b[49m\n\u001b[1;32m   1489\u001b[0m \u001b[43m    \u001b[49m\u001b[43mkey\u001b[49m\u001b[38;5;241;43m=\u001b[39;49m\u001b[38;5;28;43;01mlambda\u001b[39;49;00m\u001b[43m \u001b[49m\u001b[43ma\u001b[49m\u001b[43m:\u001b[49m\u001b[43m \u001b[49m\u001b[43ma\u001b[49m\u001b[38;5;241;43m.\u001b[39;49m\u001b[43mget\u001b[49m\u001b[43m(\u001b[49m\u001b[38;5;124;43m'\u001b[39;49m\u001b[38;5;124;43mkw_only\u001b[39;49m\u001b[38;5;124;43m'\u001b[39;49m\u001b[43m)\u001b[49m\u001b[43m \u001b[49m\u001b[38;5;129;43;01mis\u001b[39;49;00m\u001b[43m \u001b[49m\u001b[38;5;129;43;01mnot\u001b[39;49;00m\u001b[43m \u001b[49m\u001b[38;5;28;43;01mFalse\u001b[39;49;00m\u001b[43m,\u001b[49m\n\u001b[1;32m   1490\u001b[0m \u001b[43m\u001b[49m\u001b[43m)\u001b[49m\n\u001b[1;32m   1491\u001b[0m has_post_init \u001b[38;5;241m=\u001b[39m \u001b[38;5;28mhasattr\u001b[39m(dataclass, \u001b[38;5;124m'\u001b[39m\u001b[38;5;124m__post_init__\u001b[39m\u001b[38;5;124m'\u001b[39m)\n\u001b[1;32m   1492\u001b[0m has_slots \u001b[38;5;241m=\u001b[39m \u001b[38;5;28mhasattr\u001b[39m(dataclass, \u001b[38;5;124m'\u001b[39m\u001b[38;5;124m__slots__\u001b[39m\u001b[38;5;124m'\u001b[39m)\n",
      "File \u001b[0;32m~/opt/anaconda3/envs/learn-env/lib/python3.8/site-packages/pydantic/_internal/_generate_schema.py:1488\u001b[0m, in \u001b[0;36m<genexpr>\u001b[0;34m(.0)\u001b[0m\n\u001b[1;32m   1484\u001b[0m decorators \u001b[38;5;241m=\u001b[39m dataclass\u001b[38;5;241m.\u001b[39m\u001b[38;5;18m__dict__\u001b[39m\u001b[38;5;241m.\u001b[39mget(\u001b[38;5;124m'\u001b[39m\u001b[38;5;124m__pydantic_decorators__\u001b[39m\u001b[38;5;124m'\u001b[39m) \u001b[38;5;129;01mor\u001b[39;00m DecoratorInfos\u001b[38;5;241m.\u001b[39mbuild(dataclass)\n\u001b[1;32m   1485\u001b[0m \u001b[38;5;66;03m# Move kw_only=False args to the start of the list, as this is how vanilla dataclasses work.\u001b[39;00m\n\u001b[1;32m   1486\u001b[0m \u001b[38;5;66;03m# Note that when kw_only is missing or None, it is treated as equivalent to kw_only=True\u001b[39;00m\n\u001b[1;32m   1487\u001b[0m args \u001b[38;5;241m=\u001b[39m \u001b[38;5;28msorted\u001b[39m(\n\u001b[0;32m-> 1488\u001b[0m     (\u001b[38;5;28;43mself\u001b[39;49m\u001b[38;5;241;43m.\u001b[39;49m\u001b[43m_generate_dc_field_schema\u001b[49m\u001b[43m(\u001b[49m\u001b[43mk\u001b[49m\u001b[43m,\u001b[49m\u001b[43m \u001b[49m\u001b[43mv\u001b[49m\u001b[43m,\u001b[49m\u001b[43m \u001b[49m\u001b[43mdecorators\u001b[49m\u001b[43m)\u001b[49m \u001b[38;5;28;01mfor\u001b[39;00m k, v \u001b[38;5;129;01min\u001b[39;00m fields\u001b[38;5;241m.\u001b[39mitems()),\n\u001b[1;32m   1489\u001b[0m     key\u001b[38;5;241m=\u001b[39m\u001b[38;5;28;01mlambda\u001b[39;00m a: a\u001b[38;5;241m.\u001b[39mget(\u001b[38;5;124m'\u001b[39m\u001b[38;5;124mkw_only\u001b[39m\u001b[38;5;124m'\u001b[39m) \u001b[38;5;129;01mis\u001b[39;00m \u001b[38;5;129;01mnot\u001b[39;00m \u001b[38;5;28;01mFalse\u001b[39;00m,\n\u001b[1;32m   1490\u001b[0m )\n\u001b[1;32m   1491\u001b[0m has_post_init \u001b[38;5;241m=\u001b[39m \u001b[38;5;28mhasattr\u001b[39m(dataclass, \u001b[38;5;124m'\u001b[39m\u001b[38;5;124m__post_init__\u001b[39m\u001b[38;5;124m'\u001b[39m)\n\u001b[1;32m   1492\u001b[0m has_slots \u001b[38;5;241m=\u001b[39m \u001b[38;5;28mhasattr\u001b[39m(dataclass, \u001b[38;5;124m'\u001b[39m\u001b[38;5;124m__slots__\u001b[39m\u001b[38;5;124m'\u001b[39m)\n",
      "File \u001b[0;32m~/opt/anaconda3/envs/learn-env/lib/python3.8/site-packages/pydantic/_internal/_generate_schema.py:940\u001b[0m, in \u001b[0;36mGenerateSchema._generate_dc_field_schema\u001b[0;34m(self, name, field_info, decorators)\u001b[0m\n\u001b[1;32m    933\u001b[0m \u001b[38;5;28;01mdef\u001b[39;00m \u001b[38;5;21m_generate_dc_field_schema\u001b[39m(\n\u001b[1;32m    934\u001b[0m     \u001b[38;5;28mself\u001b[39m,\n\u001b[1;32m    935\u001b[0m     name: \u001b[38;5;28mstr\u001b[39m,\n\u001b[1;32m    936\u001b[0m     field_info: FieldInfo,\n\u001b[1;32m    937\u001b[0m     decorators: DecoratorInfos,\n\u001b[1;32m    938\u001b[0m ) \u001b[38;5;241m-\u001b[39m\u001b[38;5;241m>\u001b[39m core_schema\u001b[38;5;241m.\u001b[39mDataclassField:\n\u001b[1;32m    939\u001b[0m \u001b[38;5;250m    \u001b[39m\u001b[38;5;124;03m\"\"\"Prepare a DataclassField to represent the parameter/field, of a dataclass.\"\"\"\u001b[39;00m\n\u001b[0;32m--> 940\u001b[0m     common_field \u001b[38;5;241m=\u001b[39m \u001b[38;5;28;43mself\u001b[39;49m\u001b[38;5;241;43m.\u001b[39;49m\u001b[43m_common_field_schema\u001b[49m\u001b[43m(\u001b[49m\u001b[43mname\u001b[49m\u001b[43m,\u001b[49m\u001b[43m \u001b[49m\u001b[43mfield_info\u001b[49m\u001b[43m,\u001b[49m\u001b[43m \u001b[49m\u001b[43mdecorators\u001b[49m\u001b[43m)\u001b[49m\n\u001b[1;32m    941\u001b[0m     \u001b[38;5;28;01mreturn\u001b[39;00m core_schema\u001b[38;5;241m.\u001b[39mdataclass_field(\n\u001b[1;32m    942\u001b[0m         name,\n\u001b[1;32m    943\u001b[0m         common_field[\u001b[38;5;124m'\u001b[39m\u001b[38;5;124mschema\u001b[39m\u001b[38;5;124m'\u001b[39m],\n\u001b[0;32m   (...)\u001b[0m\n\u001b[1;32m    951\u001b[0m         metadata\u001b[38;5;241m=\u001b[39mcommon_field[\u001b[38;5;124m'\u001b[39m\u001b[38;5;124mmetadata\u001b[39m\u001b[38;5;124m'\u001b[39m],\n\u001b[1;32m    952\u001b[0m     )\n",
      "File \u001b[0;32m~/opt/anaconda3/envs/learn-env/lib/python3.8/site-packages/pydantic/_internal/_generate_schema.py:1045\u001b[0m, in \u001b[0;36mGenerateSchema._common_field_schema\u001b[0;34m(self, name, field_info, decorators)\u001b[0m\n\u001b[1;32m   1043\u001b[0m         schema \u001b[38;5;241m=\u001b[39m \u001b[38;5;28mself\u001b[39m\u001b[38;5;241m.\u001b[39m_apply_annotations(source_type, annotations, transform_inner_schema\u001b[38;5;241m=\u001b[39mset_discriminator)\n\u001b[1;32m   1044\u001b[0m     \u001b[38;5;28;01melse\u001b[39;00m:\n\u001b[0;32m-> 1045\u001b[0m         schema \u001b[38;5;241m=\u001b[39m \u001b[38;5;28;43mself\u001b[39;49m\u001b[38;5;241;43m.\u001b[39;49m\u001b[43m_apply_annotations\u001b[49m\u001b[43m(\u001b[49m\n\u001b[1;32m   1046\u001b[0m \u001b[43m            \u001b[49m\u001b[43msource_type\u001b[49m\u001b[43m,\u001b[49m\n\u001b[1;32m   1047\u001b[0m \u001b[43m            \u001b[49m\u001b[43mannotations\u001b[49m\u001b[43m,\u001b[49m\n\u001b[1;32m   1048\u001b[0m \u001b[43m        \u001b[49m\u001b[43m)\u001b[49m\n\u001b[1;32m   1050\u001b[0m \u001b[38;5;66;03m# This V1 compatibility shim should eventually be removed\u001b[39;00m\n\u001b[1;32m   1051\u001b[0m \u001b[38;5;66;03m# push down any `each_item=True` validators\u001b[39;00m\n\u001b[1;32m   1052\u001b[0m \u001b[38;5;66;03m# note that this won't work for any Annotated types that get wrapped by a function validator\u001b[39;00m\n\u001b[1;32m   1053\u001b[0m \u001b[38;5;66;03m# but that's okay because that didn't exist in V1\u001b[39;00m\n\u001b[1;32m   1054\u001b[0m this_field_validators \u001b[38;5;241m=\u001b[39m filter_field_decorator_info_by_field(decorators\u001b[38;5;241m.\u001b[39mvalidators\u001b[38;5;241m.\u001b[39mvalues(), name)\n",
      "File \u001b[0;32m~/opt/anaconda3/envs/learn-env/lib/python3.8/site-packages/pydantic/_internal/_generate_schema.py:1747\u001b[0m, in \u001b[0;36mGenerateSchema._apply_annotations\u001b[0;34m(self, source_type, annotations, transform_inner_schema)\u001b[0m\n\u001b[1;32m   1742\u001b[0m         \u001b[38;5;28;01mcontinue\u001b[39;00m\n\u001b[1;32m   1743\u001b[0m     get_inner_schema \u001b[38;5;241m=\u001b[39m \u001b[38;5;28mself\u001b[39m\u001b[38;5;241m.\u001b[39m_get_wrapped_inner_schema(\n\u001b[1;32m   1744\u001b[0m         get_inner_schema, annotation, pydantic_js_annotation_functions\n\u001b[1;32m   1745\u001b[0m     )\n\u001b[0;32m-> 1747\u001b[0m schema \u001b[38;5;241m=\u001b[39m \u001b[43mget_inner_schema\u001b[49m\u001b[43m(\u001b[49m\u001b[43msource_type\u001b[49m\u001b[43m)\u001b[49m\n\u001b[1;32m   1748\u001b[0m \u001b[38;5;28;01mif\u001b[39;00m pydantic_js_annotation_functions:\n\u001b[1;32m   1749\u001b[0m     metadata \u001b[38;5;241m=\u001b[39m CoreMetadataHandler(schema)\u001b[38;5;241m.\u001b[39mmetadata\n",
      "File \u001b[0;32m~/opt/anaconda3/envs/learn-env/lib/python3.8/site-packages/pydantic/_internal/_schema_generation_shared.py:82\u001b[0m, in \u001b[0;36mCallbackGetCoreSchemaHandler.__call__\u001b[0;34m(self, _CallbackGetCoreSchemaHandler__source_type)\u001b[0m\n\u001b[1;32m     81\u001b[0m \u001b[38;5;28;01mdef\u001b[39;00m \u001b[38;5;21m__call__\u001b[39m(\u001b[38;5;28mself\u001b[39m, __source_type: Any) \u001b[38;5;241m-\u001b[39m\u001b[38;5;241m>\u001b[39m core_schema\u001b[38;5;241m.\u001b[39mCoreSchema:\n\u001b[0;32m---> 82\u001b[0m     schema \u001b[38;5;241m=\u001b[39m \u001b[38;5;28;43mself\u001b[39;49m\u001b[38;5;241;43m.\u001b[39;49m\u001b[43m_handler\u001b[49m\u001b[43m(\u001b[49m\u001b[43m__source_type\u001b[49m\u001b[43m)\u001b[49m\n\u001b[1;32m     83\u001b[0m     ref \u001b[38;5;241m=\u001b[39m schema\u001b[38;5;241m.\u001b[39mget(\u001b[38;5;124m'\u001b[39m\u001b[38;5;124mref\u001b[39m\u001b[38;5;124m'\u001b[39m)\n\u001b[1;32m     84\u001b[0m     \u001b[38;5;28;01mif\u001b[39;00m \u001b[38;5;28mself\u001b[39m\u001b[38;5;241m.\u001b[39m_ref_mode \u001b[38;5;241m==\u001b[39m \u001b[38;5;124m'\u001b[39m\u001b[38;5;124mto-def\u001b[39m\u001b[38;5;124m'\u001b[39m:\n",
      "File \u001b[0;32m~/opt/anaconda3/envs/learn-env/lib/python3.8/site-packages/pydantic/_internal/_generate_schema.py:1728\u001b[0m, in \u001b[0;36mGenerateSchema._apply_annotations.<locals>.inner_handler\u001b[0;34m(obj)\u001b[0m\n\u001b[1;32m   1726\u001b[0m from_property \u001b[38;5;241m=\u001b[39m \u001b[38;5;28mself\u001b[39m\u001b[38;5;241m.\u001b[39m_generate_schema_from_property(obj, obj)\n\u001b[1;32m   1727\u001b[0m \u001b[38;5;28;01mif\u001b[39;00m from_property \u001b[38;5;129;01mis\u001b[39;00m \u001b[38;5;28;01mNone\u001b[39;00m:\n\u001b[0;32m-> 1728\u001b[0m     schema \u001b[38;5;241m=\u001b[39m \u001b[38;5;28;43mself\u001b[39;49m\u001b[38;5;241;43m.\u001b[39;49m\u001b[43m_generate_schema\u001b[49m\u001b[43m(\u001b[49m\u001b[43mobj\u001b[49m\u001b[43m)\u001b[49m\n\u001b[1;32m   1729\u001b[0m \u001b[38;5;28;01melse\u001b[39;00m:\n\u001b[1;32m   1730\u001b[0m     schema \u001b[38;5;241m=\u001b[39m from_property\n",
      "File \u001b[0;32m~/opt/anaconda3/envs/learn-env/lib/python3.8/site-packages/pydantic/_internal/_generate_schema.py:737\u001b[0m, in \u001b[0;36mGenerateSchema._generate_schema\u001b[0;34m(self, obj)\u001b[0m\n\u001b[1;32m    735\u001b[0m needs_apply_discriminated_union \u001b[38;5;241m=\u001b[39m \u001b[38;5;28mself\u001b[39m\u001b[38;5;241m.\u001b[39m_needs_apply_discriminated_union\n\u001b[1;32m    736\u001b[0m \u001b[38;5;28mself\u001b[39m\u001b[38;5;241m.\u001b[39m_needs_apply_discriminated_union \u001b[38;5;241m=\u001b[39m \u001b[38;5;28;01mFalse\u001b[39;00m\n\u001b[0;32m--> 737\u001b[0m schema \u001b[38;5;241m=\u001b[39m \u001b[38;5;28mself\u001b[39m\u001b[38;5;241m.\u001b[39m_post_process_generated_schema(\u001b[38;5;28;43mself\u001b[39;49m\u001b[38;5;241;43m.\u001b[39;49m\u001b[43m_generate_schema_inner\u001b[49m\u001b[43m(\u001b[49m\u001b[43mobj\u001b[49m\u001b[43m)\u001b[49m)\n\u001b[1;32m    738\u001b[0m \u001b[38;5;28mself\u001b[39m\u001b[38;5;241m.\u001b[39m_has_invalid_schema \u001b[38;5;241m=\u001b[39m \u001b[38;5;28mself\u001b[39m\u001b[38;5;241m.\u001b[39m_has_invalid_schema \u001b[38;5;129;01mor\u001b[39;00m has_invalid_schema\n\u001b[1;32m    739\u001b[0m \u001b[38;5;28mself\u001b[39m\u001b[38;5;241m.\u001b[39m_needs_apply_discriminated_union \u001b[38;5;241m=\u001b[39m \u001b[38;5;28mself\u001b[39m\u001b[38;5;241m.\u001b[39m_needs_apply_discriminated_union \u001b[38;5;129;01mor\u001b[39;00m needs_apply_discriminated_union\n",
      "File \u001b[0;32m~/opt/anaconda3/envs/learn-env/lib/python3.8/site-packages/pydantic/_internal/_generate_schema.py:764\u001b[0m, in \u001b[0;36mGenerateSchema._generate_schema_inner\u001b[0;34m(self, obj)\u001b[0m\n\u001b[1;32m    761\u001b[0m \u001b[38;5;28;01mif\u001b[39;00m \u001b[38;5;28misinstance\u001b[39m(obj, PydanticRecursiveRef):\n\u001b[1;32m    762\u001b[0m     \u001b[38;5;28;01mreturn\u001b[39;00m core_schema\u001b[38;5;241m.\u001b[39mdefinition_reference_schema(schema_ref\u001b[38;5;241m=\u001b[39mobj\u001b[38;5;241m.\u001b[39mtype_ref)\n\u001b[0;32m--> 764\u001b[0m \u001b[38;5;28;01mreturn\u001b[39;00m \u001b[38;5;28;43mself\u001b[39;49m\u001b[38;5;241;43m.\u001b[39;49m\u001b[43mmatch_type\u001b[49m\u001b[43m(\u001b[49m\u001b[43mobj\u001b[49m\u001b[43m)\u001b[49m\n",
      "File \u001b[0;32m~/opt/anaconda3/envs/learn-env/lib/python3.8/site-packages/pydantic/_internal/_generate_schema.py:847\u001b[0m, in \u001b[0;36mGenerateSchema.match_type\u001b[0;34m(self, obj)\u001b[0m\n\u001b[1;32m    845\u001b[0m origin \u001b[38;5;241m=\u001b[39m get_origin(obj)\n\u001b[1;32m    846\u001b[0m \u001b[38;5;28;01mif\u001b[39;00m origin \u001b[38;5;129;01mis\u001b[39;00m \u001b[38;5;129;01mnot\u001b[39;00m \u001b[38;5;28;01mNone\u001b[39;00m:\n\u001b[0;32m--> 847\u001b[0m     \u001b[38;5;28;01mreturn\u001b[39;00m \u001b[38;5;28;43mself\u001b[39;49m\u001b[38;5;241;43m.\u001b[39;49m\u001b[43m_match_generic_type\u001b[49m\u001b[43m(\u001b[49m\u001b[43mobj\u001b[49m\u001b[43m,\u001b[49m\u001b[43m \u001b[49m\u001b[43morigin\u001b[49m\u001b[43m)\u001b[49m\n\u001b[1;32m    849\u001b[0m \u001b[38;5;28;01mif\u001b[39;00m \u001b[38;5;28mself\u001b[39m\u001b[38;5;241m.\u001b[39m_arbitrary_types:\n\u001b[1;32m    850\u001b[0m     \u001b[38;5;28;01mreturn\u001b[39;00m \u001b[38;5;28mself\u001b[39m\u001b[38;5;241m.\u001b[39m_arbitrary_type_schema(obj)\n",
      "File \u001b[0;32m~/opt/anaconda3/envs/learn-env/lib/python3.8/site-packages/pydantic/_internal/_generate_schema.py:871\u001b[0m, in \u001b[0;36mGenerateSchema._match_generic_type\u001b[0;34m(self, obj, origin)\u001b[0m\n\u001b[1;32m    868\u001b[0m     \u001b[38;5;28;01mreturn\u001b[39;00m from_property\n\u001b[1;32m    870\u001b[0m \u001b[38;5;28;01mif\u001b[39;00m _typing_extra\u001b[38;5;241m.\u001b[39morigin_is_union(origin):\n\u001b[0;32m--> 871\u001b[0m     \u001b[38;5;28;01mreturn\u001b[39;00m \u001b[38;5;28;43mself\u001b[39;49m\u001b[38;5;241;43m.\u001b[39;49m\u001b[43m_union_schema\u001b[49m\u001b[43m(\u001b[49m\u001b[43mobj\u001b[49m\u001b[43m)\u001b[49m\n\u001b[1;32m    872\u001b[0m \u001b[38;5;28;01melif\u001b[39;00m origin \u001b[38;5;129;01min\u001b[39;00m TUPLE_TYPES:\n\u001b[1;32m    873\u001b[0m     \u001b[38;5;28;01mreturn\u001b[39;00m \u001b[38;5;28mself\u001b[39m\u001b[38;5;241m.\u001b[39m_tuple_schema(obj)\n",
      "File \u001b[0;32m~/opt/anaconda3/envs/learn-env/lib/python3.8/site-packages/pydantic/_internal/_generate_schema.py:1115\u001b[0m, in \u001b[0;36mGenerateSchema._union_schema\u001b[0;34m(self, union_type)\u001b[0m\n\u001b[1;32m   1113\u001b[0m         nullable \u001b[38;5;241m=\u001b[39m \u001b[38;5;28;01mTrue\u001b[39;00m\n\u001b[1;32m   1114\u001b[0m     \u001b[38;5;28;01melse\u001b[39;00m:\n\u001b[0;32m-> 1115\u001b[0m         choices\u001b[38;5;241m.\u001b[39mappend(\u001b[38;5;28;43mself\u001b[39;49m\u001b[38;5;241;43m.\u001b[39;49m\u001b[43mgenerate_schema\u001b[49m\u001b[43m(\u001b[49m\u001b[43marg\u001b[49m\u001b[43m)\u001b[49m)\n\u001b[1;32m   1117\u001b[0m \u001b[38;5;28;01mif\u001b[39;00m \u001b[38;5;28mlen\u001b[39m(choices) \u001b[38;5;241m==\u001b[39m \u001b[38;5;241m1\u001b[39m:\n\u001b[1;32m   1118\u001b[0m     s \u001b[38;5;241m=\u001b[39m choices[\u001b[38;5;241m0\u001b[39m]\n",
      "File \u001b[0;32m~/opt/anaconda3/envs/learn-env/lib/python3.8/site-packages/pydantic/_internal/_generate_schema.py:499\u001b[0m, in \u001b[0;36mGenerateSchema.generate_schema\u001b[0;34m(self, obj, from_dunder_get_core_schema)\u001b[0m\n\u001b[1;32m    496\u001b[0m         schema \u001b[38;5;241m=\u001b[39m from_property\n\u001b[1;32m    498\u001b[0m \u001b[38;5;28;01mif\u001b[39;00m schema \u001b[38;5;129;01mis\u001b[39;00m \u001b[38;5;28;01mNone\u001b[39;00m:\n\u001b[0;32m--> 499\u001b[0m     schema \u001b[38;5;241m=\u001b[39m \u001b[38;5;28;43mself\u001b[39;49m\u001b[38;5;241;43m.\u001b[39;49m\u001b[43m_generate_schema\u001b[49m\u001b[43m(\u001b[49m\u001b[43mobj\u001b[49m\u001b[43m)\u001b[49m\n\u001b[1;32m    501\u001b[0m metadata_js_function \u001b[38;5;241m=\u001b[39m _extract_get_pydantic_json_schema(obj, schema)\n\u001b[1;32m    502\u001b[0m \u001b[38;5;28;01mif\u001b[39;00m metadata_js_function \u001b[38;5;129;01mis\u001b[39;00m \u001b[38;5;129;01mnot\u001b[39;00m \u001b[38;5;28;01mNone\u001b[39;00m:\n",
      "File \u001b[0;32m~/opt/anaconda3/envs/learn-env/lib/python3.8/site-packages/pydantic/_internal/_generate_schema.py:737\u001b[0m, in \u001b[0;36mGenerateSchema._generate_schema\u001b[0;34m(self, obj)\u001b[0m\n\u001b[1;32m    735\u001b[0m needs_apply_discriminated_union \u001b[38;5;241m=\u001b[39m \u001b[38;5;28mself\u001b[39m\u001b[38;5;241m.\u001b[39m_needs_apply_discriminated_union\n\u001b[1;32m    736\u001b[0m \u001b[38;5;28mself\u001b[39m\u001b[38;5;241m.\u001b[39m_needs_apply_discriminated_union \u001b[38;5;241m=\u001b[39m \u001b[38;5;28;01mFalse\u001b[39;00m\n\u001b[0;32m--> 737\u001b[0m schema \u001b[38;5;241m=\u001b[39m \u001b[38;5;28mself\u001b[39m\u001b[38;5;241m.\u001b[39m_post_process_generated_schema(\u001b[38;5;28;43mself\u001b[39;49m\u001b[38;5;241;43m.\u001b[39;49m\u001b[43m_generate_schema_inner\u001b[49m\u001b[43m(\u001b[49m\u001b[43mobj\u001b[49m\u001b[43m)\u001b[49m)\n\u001b[1;32m    738\u001b[0m \u001b[38;5;28mself\u001b[39m\u001b[38;5;241m.\u001b[39m_has_invalid_schema \u001b[38;5;241m=\u001b[39m \u001b[38;5;28mself\u001b[39m\u001b[38;5;241m.\u001b[39m_has_invalid_schema \u001b[38;5;129;01mor\u001b[39;00m has_invalid_schema\n\u001b[1;32m    739\u001b[0m \u001b[38;5;28mself\u001b[39m\u001b[38;5;241m.\u001b[39m_needs_apply_discriminated_union \u001b[38;5;241m=\u001b[39m \u001b[38;5;28mself\u001b[39m\u001b[38;5;241m.\u001b[39m_needs_apply_discriminated_union \u001b[38;5;129;01mor\u001b[39;00m needs_apply_discriminated_union\n",
      "File \u001b[0;32m~/opt/anaconda3/envs/learn-env/lib/python3.8/site-packages/pydantic/_internal/_generate_schema.py:764\u001b[0m, in \u001b[0;36mGenerateSchema._generate_schema_inner\u001b[0;34m(self, obj)\u001b[0m\n\u001b[1;32m    761\u001b[0m \u001b[38;5;28;01mif\u001b[39;00m \u001b[38;5;28misinstance\u001b[39m(obj, PydanticRecursiveRef):\n\u001b[1;32m    762\u001b[0m     \u001b[38;5;28;01mreturn\u001b[39;00m core_schema\u001b[38;5;241m.\u001b[39mdefinition_reference_schema(schema_ref\u001b[38;5;241m=\u001b[39mobj\u001b[38;5;241m.\u001b[39mtype_ref)\n\u001b[0;32m--> 764\u001b[0m \u001b[38;5;28;01mreturn\u001b[39;00m \u001b[38;5;28;43mself\u001b[39;49m\u001b[38;5;241;43m.\u001b[39;49m\u001b[43mmatch_type\u001b[49m\u001b[43m(\u001b[49m\u001b[43mobj\u001b[49m\u001b[43m)\u001b[49m\n",
      "File \u001b[0;32m~/opt/anaconda3/envs/learn-env/lib/python3.8/site-packages/pydantic/_internal/_generate_schema.py:851\u001b[0m, in \u001b[0;36mGenerateSchema.match_type\u001b[0;34m(self, obj)\u001b[0m\n\u001b[1;32m    849\u001b[0m \u001b[38;5;28;01mif\u001b[39;00m \u001b[38;5;28mself\u001b[39m\u001b[38;5;241m.\u001b[39m_arbitrary_types:\n\u001b[1;32m    850\u001b[0m     \u001b[38;5;28;01mreturn\u001b[39;00m \u001b[38;5;28mself\u001b[39m\u001b[38;5;241m.\u001b[39m_arbitrary_type_schema(obj)\n\u001b[0;32m--> 851\u001b[0m \u001b[38;5;28;01mreturn\u001b[39;00m \u001b[38;5;28;43mself\u001b[39;49m\u001b[38;5;241;43m.\u001b[39;49m\u001b[43m_unknown_type_schema\u001b[49m\u001b[43m(\u001b[49m\u001b[43mobj\u001b[49m\u001b[43m)\u001b[49m\n",
      "File \u001b[0;32m~/opt/anaconda3/envs/learn-env/lib/python3.8/site-packages/pydantic/_internal/_generate_schema.py:397\u001b[0m, in \u001b[0;36mGenerateSchema._unknown_type_schema\u001b[0;34m(self, obj)\u001b[0m\n\u001b[1;32m    396\u001b[0m \u001b[38;5;28;01mdef\u001b[39;00m \u001b[38;5;21m_unknown_type_schema\u001b[39m(\u001b[38;5;28mself\u001b[39m, obj: Any) \u001b[38;5;241m-\u001b[39m\u001b[38;5;241m>\u001b[39m CoreSchema:\n\u001b[0;32m--> 397\u001b[0m     \u001b[38;5;28;01mraise\u001b[39;00m PydanticSchemaGenerationError(\n\u001b[1;32m    398\u001b[0m         \u001b[38;5;124mf\u001b[39m\u001b[38;5;124m'\u001b[39m\u001b[38;5;124mUnable to generate pydantic-core schema for \u001b[39m\u001b[38;5;132;01m{\u001b[39;00mobj\u001b[38;5;132;01m!r}\u001b[39;00m\u001b[38;5;124m. \u001b[39m\u001b[38;5;124m'\u001b[39m\n\u001b[1;32m    399\u001b[0m         \u001b[38;5;124m'\u001b[39m\u001b[38;5;124mSet `arbitrary_types_allowed=True` in the model_config to ignore this error\u001b[39m\u001b[38;5;124m'\u001b[39m\n\u001b[1;32m    400\u001b[0m         \u001b[38;5;124m'\u001b[39m\u001b[38;5;124m or implement `__get_pydantic_core_schema__` on your type to fully support it.\u001b[39m\u001b[38;5;124m'\u001b[39m\n\u001b[1;32m    401\u001b[0m         \u001b[38;5;124m'\u001b[39m\u001b[38;5;130;01m\\n\u001b[39;00m\u001b[38;5;130;01m\\n\u001b[39;00m\u001b[38;5;124mIf you got this error by calling handler(<some type>) within\u001b[39m\u001b[38;5;124m'\u001b[39m\n\u001b[1;32m    402\u001b[0m         \u001b[38;5;124m'\u001b[39m\u001b[38;5;124m `__get_pydantic_core_schema__` then you likely need to call\u001b[39m\u001b[38;5;124m'\u001b[39m\n\u001b[1;32m    403\u001b[0m         \u001b[38;5;124m'\u001b[39m\u001b[38;5;124m `handler.generate_schema(<some type>)` since we do not call\u001b[39m\u001b[38;5;124m'\u001b[39m\n\u001b[1;32m    404\u001b[0m         \u001b[38;5;124m'\u001b[39m\u001b[38;5;124m `__get_pydantic_core_schema__` on `<some type>` otherwise to avoid infinite recursion.\u001b[39m\u001b[38;5;124m'\u001b[39m\n\u001b[1;32m    405\u001b[0m     )\n",
      "\u001b[0;31mPydanticSchemaGenerationError\u001b[0m: Unable to generate pydantic-core schema for <class 'pandas.core.frame.DataFrame'>. Set `arbitrary_types_allowed=True` in the model_config to ignore this error or implement `__get_pydantic_core_schema__` on your type to fully support it.\n\nIf you got this error by calling handler(<some type>) within `__get_pydantic_core_schema__` then you likely need to call `handler.generate_schema(<some type>)` since we do not call `__get_pydantic_core_schema__` on `<some type>` otherwise to avoid infinite recursion.\n\nFor further information visit https://errors.pydantic.dev/2.6/u/schema-for-unknown-type"
     ]
    }
   ],
   "source": [
    "from haystack.document_store import ElasticsearchDocumentStore\n",
    "\n",
    "# Initialize ElasticsearchDocumentStore\n",
    "document_store = ElasticsearchDocumentStore(host=\"localhost\", username=\"\", password=\"\", index=\"document\")\n",
    "\n",
    "# Assuming `dfs` is a dictionary containing splits of DataFrame objects\n",
    "for split, df in dfs.items():\n",
    "    # Exclude duplicate reviews\n",
    "    docs = [{\"text\": row[\"context\"],\n",
    "             \"meta\": {\"item_id\": row[\"title\"], \"question_id\": row[\"id\"], \"split\": split}}\n",
    "            for _, row in df.drop_duplicates(subset=\"context\").iterrows()]\n",
    "    document_store.write_documents(docs, index=\"document\")\n",
    "\n",
    "print(f\"Loaded {document_store.get_document_count()} documents\")\n",
    "\n",
    "# Initializing a retriever\n",
    "from haystack.retriever.sparse import ElasticsearchRetriever\n",
    "\n",
    "es_retriever = ElasticsearchRetriever(document_store=document_store)\n"
   ]
  },
  {
   "cell_type": "code",
   "execution_count": 40,
   "id": "a0d6a786-b15d-4248-85fe-a419357d6cda",
   "metadata": {},
   "outputs": [
    {
     "ename": "NameError",
     "evalue": "name 'document_store' is not defined",
     "output_type": "error",
     "traceback": [
      "\u001b[0;31m---------------------------------------------------------------------------\u001b[0m",
      "\u001b[0;31mNameError\u001b[0m                                 Traceback (most recent call last)",
      "Cell \u001b[0;32mIn[40], line 7\u001b[0m\n\u001b[1;32m      1\u001b[0m \u001b[38;5;28;01mfor\u001b[39;00m split ,df \u001b[38;5;129;01min\u001b[39;00m dfs\u001b[38;5;241m.\u001b[39mitems():\n\u001b[1;32m      2\u001b[0m     \u001b[38;5;66;03m#Exclude duplicate reviews \u001b[39;00m\n\u001b[1;32m      3\u001b[0m     docs \u001b[38;5;241m=\u001b[39m [{\u001b[38;5;124m\"\u001b[39m\u001b[38;5;124mtext\u001b[39m\u001b[38;5;124m\"\u001b[39m: row[\u001b[38;5;124m\"\u001b[39m\u001b[38;5;124mcontext\u001b[39m\u001b[38;5;124m\"\u001b[39m],\n\u001b[1;32m      4\u001b[0m              \u001b[38;5;124m\"\u001b[39m\u001b[38;5;124mmeta\u001b[39m\u001b[38;5;124m\"\u001b[39m:{\u001b[38;5;124m\"\u001b[39m\u001b[38;5;124mitem_id\u001b[39m\u001b[38;5;124m\"\u001b[39m: row[\u001b[38;5;124m\"\u001b[39m\u001b[38;5;124mtitle\u001b[39m\u001b[38;5;124m\"\u001b[39m], \u001b[38;5;124m\"\u001b[39m\u001b[38;5;124mquestion_id\u001b[39m\u001b[38;5;124m\"\u001b[39m: row[\u001b[38;5;124m\"\u001b[39m\u001b[38;5;124mid\u001b[39m\u001b[38;5;124m\"\u001b[39m],\n\u001b[1;32m      5\u001b[0m                      \u001b[38;5;124m\"\u001b[39m\u001b[38;5;124msplit\u001b[39m\u001b[38;5;124m\"\u001b[39m: split}}\n\u001b[1;32m      6\u001b[0m             \u001b[38;5;28;01mfor\u001b[39;00m _, row \u001b[38;5;129;01min\u001b[39;00m df\u001b[38;5;241m.\u001b[39mdrop_duplicates(subset\u001b[38;5;241m=\u001b[39m\u001b[38;5;124m\"\u001b[39m\u001b[38;5;124mcontext\u001b[39m\u001b[38;5;124m\"\u001b[39m)\u001b[38;5;241m.\u001b[39miterrows()]\n\u001b[0;32m----> 7\u001b[0m     \u001b[43mdocument_store\u001b[49m\u001b[38;5;241m.\u001b[39mwrite_documents(docs, index\u001b[38;5;241m=\u001b[39m\u001b[38;5;124m\"\u001b[39m\u001b[38;5;124mdocument\u001b[39m\u001b[38;5;124m\"\u001b[39m)\n\u001b[1;32m      9\u001b[0m \u001b[38;5;28mprint\u001b[39m(\u001b[38;5;124mf\u001b[39m\u001b[38;5;124m\"\u001b[39m\u001b[38;5;124mLoaded \u001b[39m\u001b[38;5;132;01m{\u001b[39;00mdocument_store\u001b[38;5;241m.\u001b[39mget_document_count()\u001b[38;5;132;01m}\u001b[39;00m\u001b[38;5;124m documents\u001b[39m\u001b[38;5;124m\"\u001b[39m)\n",
      "\u001b[0;31mNameError\u001b[0m: name 'document_store' is not defined"
     ]
    }
   ],
   "source": [
    "for split ,df in dfs.items():\n",
    "    #Exclude duplicate reviews \n",
    "    docs = [{\"text\": row[\"context\"],\n",
    "             \"meta\":{\"item_id\": row[\"title\"], \"question_id\": row[\"id\"],\n",
    "                     \"split\": split}}\n",
    "            for _, row in df.drop_duplicates(subset=\"context\").iterrows()]\n",
    "    document_store.write_documents(docs, index=\"document\")\n",
    "\n",
    "print(f\"Loaded {document_store.get_document_count()} documents\")"
   ]
  },
  {
   "cell_type": "code",
   "execution_count": 41,
   "id": "fc76185c-fd7a-4d79-8682-4cd29f20c156",
   "metadata": {},
   "outputs": [
    {
     "ename": "ModuleNotFoundError",
     "evalue": "No module named 'haystack.retriever'",
     "output_type": "error",
     "traceback": [
      "\u001b[0;31m---------------------------------------------------------------------------\u001b[0m",
      "\u001b[0;31mModuleNotFoundError\u001b[0m                       Traceback (most recent call last)",
      "Cell \u001b[0;32mIn[41], line 2\u001b[0m\n\u001b[1;32m      1\u001b[0m \u001b[38;5;66;03m# initializing a retriever\u001b[39;00m\n\u001b[0;32m----> 2\u001b[0m \u001b[38;5;28;01mfrom\u001b[39;00m \u001b[38;5;21;01mhaystack\u001b[39;00m\u001b[38;5;21;01m.\u001b[39;00m\u001b[38;5;21;01mretriever\u001b[39;00m\u001b[38;5;21;01m.\u001b[39;00m\u001b[38;5;21;01msparse\u001b[39;00m \u001b[38;5;28;01mimport\u001b[39;00m ElasticsearchRetriever\n\u001b[1;32m      4\u001b[0m es_retriever \u001b[38;5;241m=\u001b[39m ElasticsearchRetriever(document_store\u001b[38;5;241m=\u001b[39mdocument_store)\n",
      "\u001b[0;31mModuleNotFoundError\u001b[0m: No module named 'haystack.retriever'"
     ]
    }
   ],
   "source": [
    "# initializing a retriever\n",
    "from haystack.retriever.sparse import ElasticsearchRetriever\n",
    "\n",
    "es_retriever = ElasticsearchRetriever(document_store=document_store)"
   ]
  },
  {
   "cell_type": "code",
   "execution_count": null,
   "id": "b4d38bf2-9b04-44c8-9b28-8cf0a0bcd74f",
   "metadata": {},
   "outputs": [],
   "source": [
    "# test 1 \n",
    "item_id = \"B0074BW614\"\n",
    "query = \"Is it good for reading?\"\n",
    "retrieved_docs = es_retriever.retrieve(\n",
    "    query=query, top_k=3, filters={\"item_id\":[item_id], \"split\": [\"train\"]})"
   ]
  },
  {
   "cell_type": "code",
   "execution_count": null,
   "id": "2be6b543-8c25-409e-b161-381b1955c78b",
   "metadata": {},
   "outputs": [],
   "source": [
    "print(retrieved_docs[0])"
   ]
  },
  {
   "cell_type": "code",
   "execution_count": null,
   "id": "12cf06e2-b838-4836-a07d-ca1ef9daa535",
   "metadata": {},
   "outputs": [],
   "source": [
    "# initailizing the reader\n",
    "from haystack.reader.farm import FARMReader\n",
    "\n",
    "model_ckpt = \"deepset/minlm-uncased-squad2\"\n",
    "max_seq_length, doc_stride = 384, 128\n",
    "reader = FARMReader(model_name_or_path=model_ckpt, progress_bar=False, \n",
    "                    max_seq_len=max_seq_length, doc_stride=doc_stride,\n",
    "                    return_no_answer=True)"
   ]
  },
  {
   "cell_type": "code",
   "execution_count": null,
   "id": "85c09af7-6345-4872-a8ab-d4b44679ad32",
   "metadata": {},
   "outputs": [],
   "source": [
    "print(reader.predict_on_tests(question=question, texts=[context], top_k=1))"
   ]
  },
  {
   "cell_type": "code",
   "execution_count": null,
   "id": "c044cd1b-9060-4a70-bdae-159c66373dd1",
   "metadata": {},
   "outputs": [],
   "source": [
    "# putting it all together\n",
    "\n",
    "from haystack.pipeline import ExtractveQAPipeline\n",
    "\n",
    "pipe = ExtractiveQAPipeline(reader, es_retriever)"
   ]
  },
  {
   "cell_type": "code",
   "execution_count": null,
   "id": "ff5ae783-fd43-450c-b0b6-ac41d4302838",
   "metadata": {},
   "outputs": [],
   "source": [
    "n_answers = 3\n",
    "preds = pipe.run(query=query, top_k_retriever=3, top_k_reader=n_answers,\n",
    "                 filters={\"item_id\": [item_id], \"split\": [\"train\"]})\n",
    "\n",
    "print(f\"Question: {preds['query']}\\n\")"
   ]
  },
  {
   "cell_type": "code",
   "execution_count": 7,
   "id": "a23281ed-0588-4285-8e02-7814d45442e2",
   "metadata": {},
   "outputs": [
    {
     "ename": "SyntaxError",
     "evalue": "unexpected EOF while parsing (537696967.py, line 1)",
     "output_type": "error",
     "traceback": [
      "\u001b[0;36m  Cell \u001b[0;32mIn[7], line 1\u001b[0;36m\u001b[0m\n\u001b[0;31m    for idx in range(n_answers):\u001b[0m\n\u001b[0m                                ^\u001b[0m\n\u001b[0;31mSyntaxError\u001b[0m\u001b[0;31m:\u001b[0m unexpected EOF while parsing\n"
     ]
    }
   ],
   "source": [
    "for idx in range(n_answers):\n",
    "    print(f\"Answer {idx+1}: {preds['answers'][idx]['answer']}\")\n",
    "    print(f\"Review snippet: ... {preds['answers'][idx]['context']}...\")\\\n",
    "    print(\"\\n\\n\")"
   ]
  },
  {
   "cell_type": "markdown",
   "id": "5b7b9ce1-98b1-4f23-9826-fe35b458381f",
   "metadata": {},
   "source": [
    "### improving the QA pipeline "
   ]
  },
  {
   "cell_type": "code",
   "execution_count": 2,
   "id": "628f056b-bc53-404d-8983-1cc461207a44",
   "metadata": {},
   "outputs": [
    {
     "ename": "SyntaxError",
     "evalue": "unexpected EOF while parsing (1783873878.py, line 5)",
     "output_type": "error",
     "traceback": [
      "\u001b[0;36m  Cell \u001b[0;32mIn[2], line 5\u001b[0;36m\u001b[0m\n\u001b[0;31m    def rn(self, **kwargs):\u001b[0m\n\u001b[0m                           ^\u001b[0m\n\u001b[0;31mSyntaxError\u001b[0m\u001b[0;31m:\u001b[0m unexpected EOF while parsing\n"
     ]
    }
   ],
   "source": [
    "class PipelineNode:\n",
    "    def __init__(self):\n",
    "        self.outgoing_edges = 1\n",
    "\n",
    "    def run(self, **kwargs):\n",
    "        return outputs, \"outgoing_edge_name\")"
   ]
  },
  {
   "cell_type": "code",
   "execution_count": null,
   "id": "9e020a5a-1b5a-4c64-ac8d-faa40b2f3f75",
   "metadata": {},
   "outputs": [],
   "source": [
    "from haystack.pipeline import Pipeline\n",
    "from haystack.eval import EvalDocuments\n",
    "\n",
    "class EvalRetrieverPipeline:\n",
    "    def __init__(self, retriever):\n",
    "        self.retriever = retriever\n",
    "        self.eval_retriever = EvalDocuments()\n",
    "        pipe = Pipeline()\n",
    "        pipe.add_node(components=self.retriever, name=\"ESRetriever\",\n",
    "                     inputs = [\"Query\"])\n",
    "        pipe.add_node(components=self.eval_retriever, name=\"EvalRetriever\",\n",
    "                      inputs=[\"ESRetriever\"])\n",
    "        self.pipeline = pipe\n",
    "\n",
    "pipe = EvalRetrieverPipeline(es_retriever)        "
   ]
  },
  {
   "cell_type": "code",
   "execution_count": 3,
   "id": "ca1554ad-5f86-4342-a21d-e21e4c3d6882",
   "metadata": {},
   "outputs": [
    {
     "ename": "SyntaxError",
     "evalue": "EOL while scanning string literal (592314957.py, line 5)",
     "output_type": "error",
     "traceback": [
      "\u001b[0;36m  Cell \u001b[0;32mIn[3], line 5\u001b[0;36m\u001b[0m\n\u001b[0;31m    for i , rows in dfs[\"test].iterrows():\u001b[0m\n\u001b[0m                                          ^\u001b[0m\n\u001b[0;31mSyntaxError\u001b[0m\u001b[0;31m:\u001b[0m EOL while scanning string literal\n"
     ]
    }
   ],
   "source": [
    "from haystack import Label \n",
    "\n",
    "labels = []\n",
    "\n",
    "for i , rows in dfs[\"test\"].iterrows():\n",
    "    meta = {\"item_id\": row[\"title\"], \"question_id\": row[\"id\"]}\n",
    "    if len(row[\"answers.text\"]):  \n",
    "        for answer in rows[\"answers.text\"]:     \n",
    "            label = Label(\n",
    "                question = row[\"question\"], answer=answer, id=i, origin=row[\"id\"],\n",
    "                meta=meta, is_correct=True, is_correct_document=True, no_aswer=False)\n",
    "                labels.append(label)\n",
    "    else:\n",
    "        label = Label(\n",
    "            question = row[\"question\"], answer=answer, id=i, origin=row[\"id\"],\n",
    "            meta=meta, is_correct=True, is_correct_document=True, no_aswer=False)\n",
    "            labels.append(label)  "
   ]
  },
  {
   "cell_type": "code",
   "execution_count": null,
   "id": "6f2743b9-29f4-4439-aad1-19dcd1260b30",
   "metadata": {},
   "outputs": [],
   "source": [
    "print(labels[0])"
   ]
  },
  {
   "cell_type": "code",
   "execution_count": null,
   "id": "203c51a7-b076-4d4e-a6f6-c902f83bca17",
   "metadata": {},
   "outputs": [],
   "source": [
    "document_store.write_labels(labels, index=\"label\")\n",
    "print(f\"\"\"Loaded {document_store.get_label_count(index=\"label\")} \\ \n",
    "question-answering pairs\"\"\")"
   ]
  },
  {
   "cell_type": "code",
   "execution_count": null,
   "id": "f79d02e0-8051-4bb2-8af0-812d8f3cd338",
   "metadata": {},
   "outputs": [],
   "source": [
    "labels_agg = document_store.get_all_labels_aggregated(\n",
    "    index=\"label\",\n",
    "    open_domain=True,\n",
    "    aggregate_by_meta=[\"item_id\"])\n",
    "\n",
    "print(len(labels_agg))"
   ]
  },
  {
   "cell_type": "code",
   "execution_count": null,
   "id": "c7331f7d-0bff-4e16-8594-98f8b5abd727",
   "metadata": {},
   "outputs": [],
   "source": []
  },
  {
   "cell_type": "code",
   "execution_count": null,
   "id": "8114d050-0d71-42e6-accf-13efc800a067",
   "metadata": {},
   "outputs": [],
   "source": []
  },
  {
   "cell_type": "code",
   "execution_count": null,
   "id": "75f85ef8-b26a-443d-b37b-648ebfa50364",
   "metadata": {},
   "outputs": [],
   "source": []
  },
  {
   "cell_type": "code",
   "execution_count": null,
   "id": "ccab547e-60e7-4517-85ef-5a8a5d911e58",
   "metadata": {},
   "outputs": [],
   "source": []
  },
  {
   "cell_type": "markdown",
   "id": "df0ea81f-728a-4179-89d7-b902f14238b4",
   "metadata": {},
   "source": [
    "### Retrieval Augmented Generation Model 1"
   ]
  },
  {
   "cell_type": "code",
   "execution_count": null,
   "id": "f6ca9537-42be-4bfb-abec-310a995e2338",
   "metadata": {},
   "outputs": [],
   "source": [
    "from haystack.generator.transformers import RAGenerator\n",
    "\n",
    "generator = RAGenerator(model_name_or_path=\"facebook/rag-token-nq\",\n",
    "                        embed_title=False, num_beams=5)"
   ]
  },
  {
   "cell_type": "code",
   "execution_count": null,
   "id": "dd714fb5-32aa-413c-93b2-307aad489e2e",
   "metadata": {},
   "outputs": [],
   "source": [
    "from haystack.pipeline import GenerativeQAPipeline\n",
    "\n",
    "pipe = GenerativeQAPipeline(generator=generator, retriever=dpr_retriever)"
   ]
  },
  {
   "cell_type": "code",
   "execution_count": 34,
   "id": "c47af806-430a-4165-920f-3072007d9e3f",
   "metadata": {},
   "outputs": [
    {
     "ename": "SyntaxError",
     "evalue": "unexpected EOF while parsing (814093296.py, line 1)",
     "output_type": "error",
     "traceback": [
      "\u001b[0;36m  Cell \u001b[0;32mIn[34], line 1\u001b[0;36m\u001b[0m\n\u001b[0;31m    def generate_answers(query, top_k_generator=3):\u001b[0m\n\u001b[0m                                                   ^\u001b[0m\n\u001b[0;31mSyntaxError\u001b[0m\u001b[0;31m:\u001b[0m unexpected EOF while parsing\n"
     ]
    }
   ],
   "source": [
    "def generate_answers(query, top_k_generator=3):\n",
    "    preds = pipe.run(query=query, top_k_generator=top_k_generator,\n",
    "                     top_k_retriever=5, filters={\"items_id\": [\"B0074BW614\"]})\n",
    "    print(f\"Question: {preds['query']} \\n\")\n",
    "    for idx in range(top_k_generator):\n",
    "        print(f\"Answer {idx+1}: {preds['answer'][idx]['answer']}\")"
   ]
  },
  {
   "cell_type": "code",
   "execution_count": null,
   "id": "48acb036-d1fb-42aa-8f42-ff4692d41942",
   "metadata": {},
   "outputs": [],
   "source": [
    "generate_answers(query)"
   ]
  },
  {
   "cell_type": "code",
   "execution_count": null,
   "id": "1313a20b-c278-456c-a997-2374617005b6",
   "metadata": {},
   "outputs": [],
   "source": [
    "generate_answers(\"What is the main drawbacks?\")"
   ]
  },
  {
   "cell_type": "code",
   "execution_count": null,
   "id": "7a773200-cf7d-4673-83aa-98eb7e33ef37",
   "metadata": {},
   "outputs": [],
   "source": []
  }
 ],
 "metadata": {
  "kernelspec": {
   "display_name": "Python (learn-env)",
   "language": "python",
   "name": "learn-env"
  },
  "language_info": {
   "codemirror_mode": {
    "name": "ipython",
    "version": 3
   },
   "file_extension": ".py",
   "mimetype": "text/x-python",
   "name": "python",
   "nbconvert_exporter": "python",
   "pygments_lexer": "ipython3",
   "version": "3.8.18"
  }
 },
 "nbformat": 4,
 "nbformat_minor": 5
}
